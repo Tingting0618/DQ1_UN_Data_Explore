{
 "cells": [
  {
   "cell_type": "markdown",
   "metadata": {},
   "source": [
    "Data Question 1: An Exploration of UN data"
   ]
  },
  {
   "cell_type": "markdown",
   "metadata": {},
   "source": [
    "Markdown Link https://www.markdownguide.org/cheat-sheet/"
   ]
  },
  {
   "cell_type": "code",
   "execution_count": 1,
   "metadata": {},
   "outputs": [],
   "source": [
    "import pandas as pd\n",
    "import numpy as np\n",
    "import matplotlib.pyplot as plt\n",
    "import seaborn as sns\n",
    "import scipy.stats as stats\n",
    "import statsmodels.api as sm\n",
    "%matplotlib inline"
   ]
  },
  {
   "cell_type": "code",
   "execution_count": 2,
   "metadata": {},
   "outputs": [],
   "source": [
    "gdp_df = pd.read_csv('../data/gdp_per_capita.csv')"
   ]
  },
  {
   "cell_type": "markdown",
   "metadata": {},
   "source": [
    "### 6. Using the pandas read_csv() function, read the GDP dataset into your notebook as a DataFrame called gdp_df. Take a look at the first 10 rows.\n",
    "\n",
    "### Look at the last 5 rows. Do you see a problem?\n",
    "The problem is that the dataset contains some notes, which we may not want to analyze. "
   ]
  },
  {
   "cell_type": "code",
   "execution_count": 3,
   "metadata": {
    "scrolled": false
   },
   "outputs": [
    {
     "data": {
      "text/html": [
       "<div>\n",
       "<style scoped>\n",
       "    .dataframe tbody tr th:only-of-type {\n",
       "        vertical-align: middle;\n",
       "    }\n",
       "\n",
       "    .dataframe tbody tr th {\n",
       "        vertical-align: top;\n",
       "    }\n",
       "\n",
       "    .dataframe thead th {\n",
       "        text-align: right;\n",
       "    }\n",
       "</style>\n",
       "<table border=\"1\" class=\"dataframe\">\n",
       "  <thead>\n",
       "    <tr style=\"text-align: right;\">\n",
       "      <th></th>\n",
       "      <th>Country or Area</th>\n",
       "      <th>Year</th>\n",
       "      <th>Value</th>\n",
       "      <th>Value Footnotes</th>\n",
       "    </tr>\n",
       "  </thead>\n",
       "  <tbody>\n",
       "    <tr>\n",
       "      <th>0</th>\n",
       "      <td>Afghanistan</td>\n",
       "      <td>2017</td>\n",
       "      <td>1758.465636</td>\n",
       "      <td>NaN</td>\n",
       "    </tr>\n",
       "    <tr>\n",
       "      <th>1</th>\n",
       "      <td>Afghanistan</td>\n",
       "      <td>2016</td>\n",
       "      <td>1757.023490</td>\n",
       "      <td>NaN</td>\n",
       "    </tr>\n",
       "    <tr>\n",
       "      <th>2</th>\n",
       "      <td>Afghanistan</td>\n",
       "      <td>2015</td>\n",
       "      <td>1766.593077</td>\n",
       "      <td>NaN</td>\n",
       "    </tr>\n",
       "    <tr>\n",
       "      <th>3</th>\n",
       "      <td>Afghanistan</td>\n",
       "      <td>2014</td>\n",
       "      <td>1795.735834</td>\n",
       "      <td>NaN</td>\n",
       "    </tr>\n",
       "    <tr>\n",
       "      <th>4</th>\n",
       "      <td>Afghanistan</td>\n",
       "      <td>2013</td>\n",
       "      <td>1807.762344</td>\n",
       "      <td>NaN</td>\n",
       "    </tr>\n",
       "    <tr>\n",
       "      <th>5</th>\n",
       "      <td>Afghanistan</td>\n",
       "      <td>2012</td>\n",
       "      <td>1772.764974</td>\n",
       "      <td>NaN</td>\n",
       "    </tr>\n",
       "    <tr>\n",
       "      <th>6</th>\n",
       "      <td>Afghanistan</td>\n",
       "      <td>2011</td>\n",
       "      <td>1626.764793</td>\n",
       "      <td>NaN</td>\n",
       "    </tr>\n",
       "    <tr>\n",
       "      <th>7</th>\n",
       "      <td>Afghanistan</td>\n",
       "      <td>2010</td>\n",
       "      <td>1671.581238</td>\n",
       "      <td>NaN</td>\n",
       "    </tr>\n",
       "    <tr>\n",
       "      <th>8</th>\n",
       "      <td>Afghanistan</td>\n",
       "      <td>2009</td>\n",
       "      <td>1502.354073</td>\n",
       "      <td>NaN</td>\n",
       "    </tr>\n",
       "    <tr>\n",
       "      <th>9</th>\n",
       "      <td>Afghanistan</td>\n",
       "      <td>2008</td>\n",
       "      <td>1267.644939</td>\n",
       "      <td>NaN</td>\n",
       "    </tr>\n",
       "  </tbody>\n",
       "</table>\n",
       "</div>"
      ],
      "text/plain": [
       "  Country or Area  Year        Value  Value Footnotes\n",
       "0     Afghanistan  2017  1758.465636              NaN\n",
       "1     Afghanistan  2016  1757.023490              NaN\n",
       "2     Afghanistan  2015  1766.593077              NaN\n",
       "3     Afghanistan  2014  1795.735834              NaN\n",
       "4     Afghanistan  2013  1807.762344              NaN\n",
       "5     Afghanistan  2012  1772.764974              NaN\n",
       "6     Afghanistan  2011  1626.764793              NaN\n",
       "7     Afghanistan  2010  1671.581238              NaN\n",
       "8     Afghanistan  2009  1502.354073              NaN\n",
       "9     Afghanistan  2008  1267.644939              NaN"
      ]
     },
     "execution_count": 3,
     "metadata": {},
     "output_type": "execute_result"
    }
   ],
   "source": [
    "gdp_df.head(10)"
   ]
  },
  {
   "cell_type": "code",
   "execution_count": 4,
   "metadata": {},
   "outputs": [
    {
     "data": {
      "text/html": [
       "<div>\n",
       "<style scoped>\n",
       "    .dataframe tbody tr th:only-of-type {\n",
       "        vertical-align: middle;\n",
       "    }\n",
       "\n",
       "    .dataframe tbody tr th {\n",
       "        vertical-align: top;\n",
       "    }\n",
       "\n",
       "    .dataframe thead th {\n",
       "        text-align: right;\n",
       "    }\n",
       "</style>\n",
       "<table border=\"1\" class=\"dataframe\">\n",
       "  <thead>\n",
       "    <tr style=\"text-align: right;\">\n",
       "      <th></th>\n",
       "      <th>Country or Area</th>\n",
       "      <th>Year</th>\n",
       "      <th>Value</th>\n",
       "      <th>Value Footnotes</th>\n",
       "    </tr>\n",
       "  </thead>\n",
       "  <tbody>\n",
       "    <tr>\n",
       "      <th>6497</th>\n",
       "      <td>Zimbabwe</td>\n",
       "      <td>1992</td>\n",
       "      <td>2591.007534</td>\n",
       "      <td>NaN</td>\n",
       "    </tr>\n",
       "    <tr>\n",
       "      <th>6498</th>\n",
       "      <td>Zimbabwe</td>\n",
       "      <td>1991</td>\n",
       "      <td>2906.272849</td>\n",
       "      <td>NaN</td>\n",
       "    </tr>\n",
       "    <tr>\n",
       "      <th>6499</th>\n",
       "      <td>Zimbabwe</td>\n",
       "      <td>1990</td>\n",
       "      <td>2819.549467</td>\n",
       "      <td>NaN</td>\n",
       "    </tr>\n",
       "    <tr>\n",
       "      <th>6500</th>\n",
       "      <td>footnoteSeqID</td>\n",
       "      <td>Footnote</td>\n",
       "      <td>NaN</td>\n",
       "      <td>NaN</td>\n",
       "    </tr>\n",
       "    <tr>\n",
       "      <th>6501</th>\n",
       "      <td>2</td>\n",
       "      <td>Excludes South Sudan after July 9, 2011.</td>\n",
       "      <td>NaN</td>\n",
       "      <td>NaN</td>\n",
       "    </tr>\n",
       "  </tbody>\n",
       "</table>\n",
       "</div>"
      ],
      "text/plain": [
       "     Country or Area                                      Year        Value  \\\n",
       "6497        Zimbabwe                                      1992  2591.007534   \n",
       "6498        Zimbabwe                                      1991  2906.272849   \n",
       "6499        Zimbabwe                                      1990  2819.549467   \n",
       "6500   footnoteSeqID                                  Footnote          NaN   \n",
       "6501               2  Excludes South Sudan after July 9, 2011.          NaN   \n",
       "\n",
       "      Value Footnotes  \n",
       "6497              NaN  \n",
       "6498              NaN  \n",
       "6499              NaN  \n",
       "6500              NaN  \n",
       "6501              NaN  "
      ]
     },
     "execution_count": 4,
     "metadata": {},
     "output_type": "execute_result"
    }
   ],
   "source": [
    "gdp_df.tail(5)"
   ]
  },
  {
   "cell_type": "markdown",
   "metadata": {},
   "source": [
    "### 6. Drop the 'Value Footnotes' column, and rename the remaining columns to ‘Country’, ‘Year’, and ‘GDP_Per_Capita’."
   ]
  },
  {
   "cell_type": "code",
   "execution_count": 5,
   "metadata": {},
   "outputs": [],
   "source": [
    "gdp_df = pd.read_csv('../data/gdp_per_capita.csv',nrows=6500)"
   ]
  },
  {
   "cell_type": "markdown",
   "metadata": {},
   "source": [
    "### 7. How many rows and columns does gdp_df have? What are the data types of its columns?\n",
    "5225 rows and 4 columns; Data types contain object, int64, float64, category."
   ]
  },
  {
   "cell_type": "code",
   "execution_count": 6,
   "metadata": {
    "scrolled": true
   },
   "outputs": [
    {
     "data": {
      "text/plain": [
       "(6500, 4)"
      ]
     },
     "execution_count": 6,
     "metadata": {},
     "output_type": "execute_result"
    }
   ],
   "source": [
    "gdp_df.shape"
   ]
  },
  {
   "cell_type": "code",
   "execution_count": 7,
   "metadata": {},
   "outputs": [
    {
     "name": "stdout",
     "output_type": "stream",
     "text": [
      "<class 'pandas.core.frame.DataFrame'>\n",
      "RangeIndex: 6500 entries, 0 to 6499\n",
      "Data columns (total 4 columns):\n",
      "Country or Area    6500 non-null object\n",
      "Year               6500 non-null int64\n",
      "Value              6500 non-null float64\n",
      "Value Footnotes    1 non-null float64\n",
      "dtypes: float64(2), int64(1), object(1)\n",
      "memory usage: 203.2+ KB\n"
     ]
    }
   ],
   "source": [
    "gdp_df.info()"
   ]
  },
  {
   "cell_type": "code",
   "execution_count": 8,
   "metadata": {},
   "outputs": [],
   "source": [
    "del gdp_df['Value Footnotes']"
   ]
  },
  {
   "cell_type": "code",
   "execution_count": 9,
   "metadata": {
    "scrolled": true
   },
   "outputs": [],
   "source": [
    "gdp_df.rename(columns={\"Country or Area\": \"Country\", \"Value\": \"GDP_Per_Capita\"},inplace=True)"
   ]
  },
  {
   "cell_type": "code",
   "execution_count": 10,
   "metadata": {
    "scrolled": true
   },
   "outputs": [
    {
     "data": {
      "text/html": [
       "<div>\n",
       "<style scoped>\n",
       "    .dataframe tbody tr th:only-of-type {\n",
       "        vertical-align: middle;\n",
       "    }\n",
       "\n",
       "    .dataframe tbody tr th {\n",
       "        vertical-align: top;\n",
       "    }\n",
       "\n",
       "    .dataframe thead th {\n",
       "        text-align: right;\n",
       "    }\n",
       "</style>\n",
       "<table border=\"1\" class=\"dataframe\">\n",
       "  <thead>\n",
       "    <tr style=\"text-align: right;\">\n",
       "      <th></th>\n",
       "      <th>Continent</th>\n",
       "      <th>Country</th>\n",
       "    </tr>\n",
       "  </thead>\n",
       "  <tbody>\n",
       "    <tr>\n",
       "      <th>0</th>\n",
       "      <td>Asia</td>\n",
       "      <td>Afghanistan</td>\n",
       "    </tr>\n",
       "    <tr>\n",
       "      <th>1</th>\n",
       "      <td>Europe</td>\n",
       "      <td>Albania</td>\n",
       "    </tr>\n",
       "    <tr>\n",
       "      <th>2</th>\n",
       "      <td>Africa</td>\n",
       "      <td>Algeria</td>\n",
       "    </tr>\n",
       "    <tr>\n",
       "      <th>3</th>\n",
       "      <td>Europe</td>\n",
       "      <td>Andorra</td>\n",
       "    </tr>\n",
       "    <tr>\n",
       "      <th>4</th>\n",
       "      <td>Africa</td>\n",
       "      <td>Angola</td>\n",
       "    </tr>\n",
       "  </tbody>\n",
       "</table>\n",
       "</div>"
      ],
      "text/plain": [
       "  Continent      Country\n",
       "0      Asia  Afghanistan\n",
       "1    Europe      Albania\n",
       "2    Africa      Algeria\n",
       "3    Europe      Andorra\n",
       "4    Africa       Angola"
      ]
     },
     "execution_count": 10,
     "metadata": {},
     "output_type": "execute_result"
    }
   ],
   "source": [
    "continents = pd.read_csv('../data/continents.csv')\n",
    "continents.head(5)"
   ]
  },
  {
   "cell_type": "code",
   "execution_count": 11,
   "metadata": {
    "scrolled": true
   },
   "outputs": [],
   "source": [
    "gdp_df = gdp_df.replace({\"CÃ´te d'Ivoire\": \"Ivory Coast\",\"CuraÃ§ao\" : \"Curaçao\",\"SÃ£o TomÃ© and Principe\" : \"Sao Tome and Principe\",\"Sint Maarten (Dutch part)\" : \"Sint Maarten\"})"
   ]
  },
  {
   "cell_type": "code",
   "execution_count": 12,
   "metadata": {
    "scrolled": true
   },
   "outputs": [
    {
     "data": {
      "text/html": [
       "<div>\n",
       "<style scoped>\n",
       "    .dataframe tbody tr th:only-of-type {\n",
       "        vertical-align: middle;\n",
       "    }\n",
       "\n",
       "    .dataframe tbody tr th {\n",
       "        vertical-align: top;\n",
       "    }\n",
       "\n",
       "    .dataframe thead th {\n",
       "        text-align: right;\n",
       "    }\n",
       "</style>\n",
       "<table border=\"1\" class=\"dataframe\">\n",
       "  <thead>\n",
       "    <tr style=\"text-align: right;\">\n",
       "      <th></th>\n",
       "      <th>Country</th>\n",
       "      <th>Year</th>\n",
       "      <th>GDP_Per_Capita</th>\n",
       "    </tr>\n",
       "  </thead>\n",
       "  <tbody>\n",
       "    <tr>\n",
       "      <th>792</th>\n",
       "      <td>Ivory Coast</td>\n",
       "      <td>2017</td>\n",
       "      <td>3564.595846</td>\n",
       "    </tr>\n",
       "    <tr>\n",
       "      <th>793</th>\n",
       "      <td>Ivory Coast</td>\n",
       "      <td>2016</td>\n",
       "      <td>3395.088932</td>\n",
       "    </tr>\n",
       "    <tr>\n",
       "      <th>794</th>\n",
       "      <td>Ivory Coast</td>\n",
       "      <td>2015</td>\n",
       "      <td>3225.188859</td>\n",
       "    </tr>\n",
       "    <tr>\n",
       "      <th>795</th>\n",
       "      <td>Ivory Coast</td>\n",
       "      <td>2014</td>\n",
       "      <td>3038.844827</td>\n",
       "    </tr>\n",
       "    <tr>\n",
       "      <th>796</th>\n",
       "      <td>Ivory Coast</td>\n",
       "      <td>2013</td>\n",
       "      <td>2864.048627</td>\n",
       "    </tr>\n",
       "    <tr>\n",
       "      <th>797</th>\n",
       "      <td>Ivory Coast</td>\n",
       "      <td>2012</td>\n",
       "      <td>2696.191639</td>\n",
       "    </tr>\n",
       "    <tr>\n",
       "      <th>798</th>\n",
       "      <td>Ivory Coast</td>\n",
       "      <td>2011</td>\n",
       "      <td>2495.495125</td>\n",
       "    </tr>\n",
       "    <tr>\n",
       "      <th>799</th>\n",
       "      <td>Ivory Coast</td>\n",
       "      <td>2010</td>\n",
       "      <td>2673.013083</td>\n",
       "    </tr>\n",
       "    <tr>\n",
       "      <th>800</th>\n",
       "      <td>Ivory Coast</td>\n",
       "      <td>2009</td>\n",
       "      <td>2682.036638</td>\n",
       "    </tr>\n",
       "    <tr>\n",
       "      <th>801</th>\n",
       "      <td>Ivory Coast</td>\n",
       "      <td>2008</td>\n",
       "      <td>2657.672981</td>\n",
       "    </tr>\n",
       "    <tr>\n",
       "      <th>802</th>\n",
       "      <td>Ivory Coast</td>\n",
       "      <td>2007</td>\n",
       "      <td>2650.485963</td>\n",
       "    </tr>\n",
       "    <tr>\n",
       "      <th>803</th>\n",
       "      <td>Ivory Coast</td>\n",
       "      <td>2006</td>\n",
       "      <td>2662.330254</td>\n",
       "    </tr>\n",
       "    <tr>\n",
       "      <th>804</th>\n",
       "      <td>Ivory Coast</td>\n",
       "      <td>2005</td>\n",
       "      <td>2679.787386</td>\n",
       "    </tr>\n",
       "    <tr>\n",
       "      <th>805</th>\n",
       "      <td>Ivory Coast</td>\n",
       "      <td>2004</td>\n",
       "      <td>2690.738762</td>\n",
       "    </tr>\n",
       "    <tr>\n",
       "      <th>806</th>\n",
       "      <td>Ivory Coast</td>\n",
       "      <td>2003</td>\n",
       "      <td>2714.011379</td>\n",
       "    </tr>\n",
       "    <tr>\n",
       "      <th>807</th>\n",
       "      <td>Ivory Coast</td>\n",
       "      <td>2002</td>\n",
       "      <td>2810.189031</td>\n",
       "    </tr>\n",
       "    <tr>\n",
       "      <th>808</th>\n",
       "      <td>Ivory Coast</td>\n",
       "      <td>2001</td>\n",
       "      <td>2922.033952</td>\n",
       "    </tr>\n",
       "    <tr>\n",
       "      <th>809</th>\n",
       "      <td>Ivory Coast</td>\n",
       "      <td>2000</td>\n",
       "      <td>2989.146720</td>\n",
       "    </tr>\n",
       "    <tr>\n",
       "      <th>810</th>\n",
       "      <td>Ivory Coast</td>\n",
       "      <td>1999</td>\n",
       "      <td>3132.638498</td>\n",
       "    </tr>\n",
       "    <tr>\n",
       "      <th>811</th>\n",
       "      <td>Ivory Coast</td>\n",
       "      <td>1998</td>\n",
       "      <td>3170.407545</td>\n",
       "    </tr>\n",
       "    <tr>\n",
       "      <th>812</th>\n",
       "      <td>Ivory Coast</td>\n",
       "      <td>1997</td>\n",
       "      <td>3113.038123</td>\n",
       "    </tr>\n",
       "    <tr>\n",
       "      <th>813</th>\n",
       "      <td>Ivory Coast</td>\n",
       "      <td>1996</td>\n",
       "      <td>3095.960786</td>\n",
       "    </tr>\n",
       "    <tr>\n",
       "      <th>814</th>\n",
       "      <td>Ivory Coast</td>\n",
       "      <td>1995</td>\n",
       "      <td>2968.016191</td>\n",
       "    </tr>\n",
       "    <tr>\n",
       "      <th>815</th>\n",
       "      <td>Ivory Coast</td>\n",
       "      <td>1994</td>\n",
       "      <td>2864.251321</td>\n",
       "    </tr>\n",
       "    <tr>\n",
       "      <th>816</th>\n",
       "      <td>Ivory Coast</td>\n",
       "      <td>1993</td>\n",
       "      <td>2940.491802</td>\n",
       "    </tr>\n",
       "    <tr>\n",
       "      <th>817</th>\n",
       "      <td>Ivory Coast</td>\n",
       "      <td>1992</td>\n",
       "      <td>3051.758908</td>\n",
       "    </tr>\n",
       "    <tr>\n",
       "      <th>818</th>\n",
       "      <td>Ivory Coast</td>\n",
       "      <td>1991</td>\n",
       "      <td>3170.602503</td>\n",
       "    </tr>\n",
       "    <tr>\n",
       "      <th>819</th>\n",
       "      <td>Ivory Coast</td>\n",
       "      <td>1990</td>\n",
       "      <td>3285.588941</td>\n",
       "    </tr>\n",
       "  </tbody>\n",
       "</table>\n",
       "</div>"
      ],
      "text/plain": [
       "         Country  Year  GDP_Per_Capita\n",
       "792  Ivory Coast  2017     3564.595846\n",
       "793  Ivory Coast  2016     3395.088932\n",
       "794  Ivory Coast  2015     3225.188859\n",
       "795  Ivory Coast  2014     3038.844827\n",
       "796  Ivory Coast  2013     2864.048627\n",
       "797  Ivory Coast  2012     2696.191639\n",
       "798  Ivory Coast  2011     2495.495125\n",
       "799  Ivory Coast  2010     2673.013083\n",
       "800  Ivory Coast  2009     2682.036638\n",
       "801  Ivory Coast  2008     2657.672981\n",
       "802  Ivory Coast  2007     2650.485963\n",
       "803  Ivory Coast  2006     2662.330254\n",
       "804  Ivory Coast  2005     2679.787386\n",
       "805  Ivory Coast  2004     2690.738762\n",
       "806  Ivory Coast  2003     2714.011379\n",
       "807  Ivory Coast  2002     2810.189031\n",
       "808  Ivory Coast  2001     2922.033952\n",
       "809  Ivory Coast  2000     2989.146720\n",
       "810  Ivory Coast  1999     3132.638498\n",
       "811  Ivory Coast  1998     3170.407545\n",
       "812  Ivory Coast  1997     3113.038123\n",
       "813  Ivory Coast  1996     3095.960786\n",
       "814  Ivory Coast  1995     2968.016191\n",
       "815  Ivory Coast  1994     2864.251321\n",
       "816  Ivory Coast  1993     2940.491802\n",
       "817  Ivory Coast  1992     3051.758908\n",
       "818  Ivory Coast  1991     3170.602503\n",
       "819  Ivory Coast  1990     3285.588941"
      ]
     },
     "execution_count": 12,
     "metadata": {},
     "output_type": "execute_result"
    }
   ],
   "source": [
    "gdp_df.query('Country == \"Ivory Coast\" ')"
   ]
  },
  {
   "cell_type": "code",
   "execution_count": 13,
   "metadata": {
    "scrolled": true
   },
   "outputs": [],
   "source": [
    "gdp_df=pd.merge(gdp_df,continents,on='Country',how='inner')"
   ]
  },
  {
   "cell_type": "code",
   "execution_count": 14,
   "metadata": {
    "scrolled": true
   },
   "outputs": [
    {
     "data": {
      "text/html": [
       "<div>\n",
       "<style scoped>\n",
       "    .dataframe tbody tr th:only-of-type {\n",
       "        vertical-align: middle;\n",
       "    }\n",
       "\n",
       "    .dataframe tbody tr th {\n",
       "        vertical-align: top;\n",
       "    }\n",
       "\n",
       "    .dataframe thead th {\n",
       "        text-align: right;\n",
       "    }\n",
       "</style>\n",
       "<table border=\"1\" class=\"dataframe\">\n",
       "  <thead>\n",
       "    <tr style=\"text-align: right;\">\n",
       "      <th></th>\n",
       "      <th>Country</th>\n",
       "      <th>Year</th>\n",
       "      <th>GDP_Per_Capita</th>\n",
       "      <th>Continent</th>\n",
       "    </tr>\n",
       "  </thead>\n",
       "  <tbody>\n",
       "    <tr>\n",
       "      <th>0</th>\n",
       "      <td>Afghanistan</td>\n",
       "      <td>2017</td>\n",
       "      <td>1758.465636</td>\n",
       "      <td>Asia</td>\n",
       "    </tr>\n",
       "    <tr>\n",
       "      <th>1</th>\n",
       "      <td>Afghanistan</td>\n",
       "      <td>2016</td>\n",
       "      <td>1757.023490</td>\n",
       "      <td>Asia</td>\n",
       "    </tr>\n",
       "    <tr>\n",
       "      <th>2</th>\n",
       "      <td>Afghanistan</td>\n",
       "      <td>2015</td>\n",
       "      <td>1766.593077</td>\n",
       "      <td>Asia</td>\n",
       "    </tr>\n",
       "    <tr>\n",
       "      <th>3</th>\n",
       "      <td>Afghanistan</td>\n",
       "      <td>2014</td>\n",
       "      <td>1795.735834</td>\n",
       "      <td>Asia</td>\n",
       "    </tr>\n",
       "    <tr>\n",
       "      <th>4</th>\n",
       "      <td>Afghanistan</td>\n",
       "      <td>2013</td>\n",
       "      <td>1807.762344</td>\n",
       "      <td>Asia</td>\n",
       "    </tr>\n",
       "  </tbody>\n",
       "</table>\n",
       "</div>"
      ],
      "text/plain": [
       "       Country  Year  GDP_Per_Capita Continent\n",
       "0  Afghanistan  2017     1758.465636      Asia\n",
       "1  Afghanistan  2016     1757.023490      Asia\n",
       "2  Afghanistan  2015     1766.593077      Asia\n",
       "3  Afghanistan  2014     1795.735834      Asia\n",
       "4  Afghanistan  2013     1807.762344      Asia"
      ]
     },
     "execution_count": 14,
     "metadata": {},
     "output_type": "execute_result"
    }
   ],
   "source": [
    "gdp_df.head()"
   ]
  },
  {
   "cell_type": "code",
   "execution_count": 15,
   "metadata": {},
   "outputs": [
    {
     "name": "stdout",
     "output_type": "stream",
     "text": [
      "<class 'pandas.core.frame.DataFrame'>\n",
      "Int64Index: 5225 entries, 0 to 5224\n",
      "Data columns (total 4 columns):\n",
      "Country           5225 non-null object\n",
      "Year              5225 non-null int64\n",
      "GDP_Per_Capita    5225 non-null float64\n",
      "Continent         5225 non-null object\n",
      "dtypes: float64(1), int64(1), object(2)\n",
      "memory usage: 204.1+ KB\n"
     ]
    }
   ],
   "source": [
    "gdp_df.info()"
   ]
  },
  {
   "cell_type": "code",
   "execution_count": 16,
   "metadata": {},
   "outputs": [
    {
     "name": "stdout",
     "output_type": "stream",
     "text": [
      "Wall time: 0 ns\n"
     ]
    },
    {
     "data": {
      "text/plain": [
       "Continent\n",
       "Africa            4588.289835\n",
       "Asia             21174.893215\n",
       "Europe           26497.245133\n",
       "North America    19228.818275\n",
       "Oceania           8818.318792\n",
       "South America    10989.950644\n",
       "Name: GDP_Per_Capita, dtype: float64"
      ]
     },
     "execution_count": 16,
     "metadata": {},
     "output_type": "execute_result"
    }
   ],
   "source": [
    "%%time\n",
    "gdp_df.groupby('Continent').GDP_Per_Capita.mean()"
   ]
  },
  {
   "cell_type": "code",
   "execution_count": 17,
   "metadata": {},
   "outputs": [],
   "source": [
    "gdp_df = gdp_df.astype({\"Continent\": 'category'})"
   ]
  },
  {
   "cell_type": "code",
   "execution_count": 18,
   "metadata": {},
   "outputs": [
    {
     "name": "stdout",
     "output_type": "stream",
     "text": [
      "<class 'pandas.core.frame.DataFrame'>\n",
      "Int64Index: 5225 entries, 0 to 5224\n",
      "Data columns (total 4 columns):\n",
      "Country           5225 non-null object\n",
      "Year              5225 non-null int64\n",
      "GDP_Per_Capita    5225 non-null float64\n",
      "Continent         5225 non-null category\n",
      "dtypes: category(1), float64(1), int64(1), object(1)\n",
      "memory usage: 168.6+ KB\n"
     ]
    }
   ],
   "source": [
    "gdp_df.info()"
   ]
  },
  {
   "cell_type": "code",
   "execution_count": 19,
   "metadata": {},
   "outputs": [
    {
     "name": "stdout",
     "output_type": "stream",
     "text": [
      "Wall time: 997 µs\n"
     ]
    },
    {
     "data": {
      "text/plain": [
       "Continent\n",
       "Africa            4588.289835\n",
       "Asia             21174.893215\n",
       "Europe           26497.245133\n",
       "North America    19228.818275\n",
       "Oceania           8818.318792\n",
       "South America    10989.950644\n",
       "Name: GDP_Per_Capita, dtype: float64"
      ]
     },
     "execution_count": 19,
     "metadata": {},
     "output_type": "execute_result"
    }
   ],
   "source": [
    "%%time\n",
    "gdp_df.groupby('Continent').GDP_Per_Capita.mean()"
   ]
  },
  {
   "cell_type": "code",
   "execution_count": 20,
   "metadata": {},
   "outputs": [
    {
     "data": {
      "image/png": "[encoded data removed]",
      "text/plain": [
       "<Figure size 576x360 with 1 Axes>"
      ]
     },
     "metadata": {
      "needs_background": "light"
     },
     "output_type": "display_data"
    }
   ],
   "source": [
    "gdp_df.groupby('Continent').Country.nunique().plot(kind='bar',figsize=(8, 5), rot=10)\n",
    "plt.xlabel(\"Continent\", labelpad=10)\n",
    "plt.ylabel(\"Count of Country\", labelpad=10)\n",
    "plt.title(\"The Number of Countries Per Continent\", y=1.05);"
   ]
  },
  {
   "cell_type": "markdown",
   "metadata": {},
   "source": [
    "### 12. How many countries are represented in this dataset? What range of years are represented?\n",
    "196 countries are represented. The year range represented is 27."
   ]
  },
  {
   "cell_type": "code",
   "execution_count": 21,
   "metadata": {},
   "outputs": [
    {
     "data": {
      "text/plain": [
       "196"
      ]
     },
     "execution_count": 21,
     "metadata": {},
     "output_type": "execute_result"
    }
   ],
   "source": [
    "gdp_df.Country.nunique()"
   ]
  },
  {
   "cell_type": "code",
   "execution_count": 22,
   "metadata": {},
   "outputs": [
    {
     "name": "stdout",
     "output_type": "stream",
     "text": [
      "27\n"
     ]
    }
   ],
   "source": [
    "print(gdp_df.Year.max()-gdp_df.Year.min())"
   ]
  },
  {
   "cell_type": "code",
   "execution_count": 23,
   "metadata": {},
   "outputs": [],
   "source": [
    "gdp_2014=gdp_df.loc[gdp_df['Year'] == 2014]"
   ]
  },
  {
   "cell_type": "code",
   "execution_count": 24,
   "metadata": {},
   "outputs": [
    {
     "data": {
      "text/html": [
       "<div>\n",
       "<style scoped>\n",
       "    .dataframe tbody tr th:only-of-type {\n",
       "        vertical-align: middle;\n",
       "    }\n",
       "\n",
       "    .dataframe tbody tr th {\n",
       "        vertical-align: top;\n",
       "    }\n",
       "\n",
       "    .dataframe thead th {\n",
       "        text-align: right;\n",
       "    }\n",
       "</style>\n",
       "<table border=\"1\" class=\"dataframe\">\n",
       "  <thead>\n",
       "    <tr style=\"text-align: right;\">\n",
       "      <th></th>\n",
       "      <th>Country</th>\n",
       "      <th>Year</th>\n",
       "      <th>GDP_Per_Capita</th>\n",
       "      <th>Continent</th>\n",
       "    </tr>\n",
       "  </thead>\n",
       "  <tbody>\n",
       "    <tr>\n",
       "      <th>3</th>\n",
       "      <td>Afghanistan</td>\n",
       "      <td>2014</td>\n",
       "      <td>1795.735834</td>\n",
       "      <td>Asia</td>\n",
       "    </tr>\n",
       "    <tr>\n",
       "      <th>19</th>\n",
       "      <td>Albania</td>\n",
       "      <td>2014</td>\n",
       "      <td>10700.522802</td>\n",
       "      <td>Europe</td>\n",
       "    </tr>\n",
       "    <tr>\n",
       "      <th>47</th>\n",
       "      <td>Algeria</td>\n",
       "      <td>2014</td>\n",
       "      <td>13549.025150</td>\n",
       "      <td>Africa</td>\n",
       "    </tr>\n",
       "    <tr>\n",
       "      <th>75</th>\n",
       "      <td>Angola</td>\n",
       "      <td>2014</td>\n",
       "      <td>6813.052106</td>\n",
       "      <td>Africa</td>\n",
       "    </tr>\n",
       "    <tr>\n",
       "      <th>103</th>\n",
       "      <td>Antigua and Barbuda</td>\n",
       "      <td>2014</td>\n",
       "      <td>20820.551057</td>\n",
       "      <td>North America</td>\n",
       "    </tr>\n",
       "  </tbody>\n",
       "</table>\n",
       "</div>"
      ],
      "text/plain": [
       "                 Country  Year  GDP_Per_Capita      Continent\n",
       "3            Afghanistan  2014     1795.735834           Asia\n",
       "19               Albania  2014    10700.522802         Europe\n",
       "47               Algeria  2014    13549.025150         Africa\n",
       "75                Angola  2014     6813.052106         Africa\n",
       "103  Antigua and Barbuda  2014    20820.551057  North America"
      ]
     },
     "execution_count": 24,
     "metadata": {},
     "output_type": "execute_result"
    }
   ],
   "source": [
    "gdp_2014.describe()\n",
    "gdp_2014.head(5)"
   ]
  },
  {
   "cell_type": "markdown",
   "metadata": {},
   "source": [
    "### 15. Which country had the highest GDP per capita in 2014? Which had the lowest? Find the top 5 counties by GDP per capita in 2014.\n",
    "Macao SAR, China had the highest GDP per capita in 2014. Mauritania had the lowest GDP per capita in 2014.\n",
    "Top 5 countries by GDP per capita in 2014 are Macao SAR, China; Qatar; Luxembourg; Singapore; Brunei."
   ]
  },
  {
   "cell_type": "code",
   "execution_count": 25,
   "metadata": {},
   "outputs": [
    {
     "data": {
      "text/html": [
       "<div>\n",
       "<style scoped>\n",
       "    .dataframe tbody tr th:only-of-type {\n",
       "        vertical-align: middle;\n",
       "    }\n",
       "\n",
       "    .dataframe tbody tr th {\n",
       "        vertical-align: top;\n",
       "    }\n",
       "\n",
       "    .dataframe thead th {\n",
       "        text-align: right;\n",
       "    }\n",
       "</style>\n",
       "<table border=\"1\" class=\"dataframe\">\n",
       "  <thead>\n",
       "    <tr style=\"text-align: right;\">\n",
       "      <th></th>\n",
       "      <th>Country</th>\n",
       "      <th>Year</th>\n",
       "      <th>GDP_Per_Capita</th>\n",
       "      <th>Continent</th>\n",
       "    </tr>\n",
       "  </thead>\n",
       "  <tbody>\n",
       "    <tr>\n",
       "      <th>2731</th>\n",
       "      <td>Macao SAR, China</td>\n",
       "      <td>2014</td>\n",
       "      <td>130439.187070</td>\n",
       "      <td>Asia</td>\n",
       "    </tr>\n",
       "    <tr>\n",
       "      <th>3779</th>\n",
       "      <td>Qatar</td>\n",
       "      <td>2014</td>\n",
       "      <td>116693.507701</td>\n",
       "      <td>Asia</td>\n",
       "    </tr>\n",
       "    <tr>\n",
       "      <th>2703</th>\n",
       "      <td>Luxembourg</td>\n",
       "      <td>2014</td>\n",
       "      <td>92349.186486</td>\n",
       "      <td>Europe</td>\n",
       "    </tr>\n",
       "    <tr>\n",
       "      <th>4082</th>\n",
       "      <td>Singapore</td>\n",
       "      <td>2014</td>\n",
       "      <td>81965.361071</td>\n",
       "      <td>Asia</td>\n",
       "    </tr>\n",
       "    <tr>\n",
       "      <th>655</th>\n",
       "      <td>Brunei</td>\n",
       "      <td>2014</td>\n",
       "      <td>76448.593329</td>\n",
       "      <td>Asia</td>\n",
       "    </tr>\n",
       "    <tr>\n",
       "      <th>2484</th>\n",
       "      <td>Kuwait</td>\n",
       "      <td>2014</td>\n",
       "      <td>72588.486007</td>\n",
       "      <td>Asia</td>\n",
       "    </tr>\n",
       "    <tr>\n",
       "      <th>3453</th>\n",
       "      <td>Norway</td>\n",
       "      <td>2014</td>\n",
       "      <td>63419.314779</td>\n",
       "      <td>Europe</td>\n",
       "    </tr>\n",
       "    <tr>\n",
       "      <th>4899</th>\n",
       "      <td>United Arab Emirates</td>\n",
       "      <td>2014</td>\n",
       "      <td>62948.677902</td>\n",
       "      <td>Asia</td>\n",
       "    </tr>\n",
       "    <tr>\n",
       "      <th>904</th>\n",
       "      <td>Cayman Islands</td>\n",
       "      <td>2014</td>\n",
       "      <td>62929.874528</td>\n",
       "      <td>North America</td>\n",
       "    </tr>\n",
       "    <tr>\n",
       "      <th>4461</th>\n",
       "      <td>Switzerland</td>\n",
       "      <td>2014</td>\n",
       "      <td>57218.027926</td>\n",
       "      <td>Europe</td>\n",
       "    </tr>\n",
       "    <tr>\n",
       "      <th>3926</th>\n",
       "      <td>San Marino</td>\n",
       "      <td>2014</td>\n",
       "      <td>56110.339084</td>\n",
       "      <td>Europe</td>\n",
       "    </tr>\n",
       "    <tr>\n",
       "      <th>1991</th>\n",
       "      <td>Hong Kong SAR, China</td>\n",
       "      <td>2014</td>\n",
       "      <td>52789.412215</td>\n",
       "      <td>Asia</td>\n",
       "    </tr>\n",
       "    <tr>\n",
       "      <th>4955</th>\n",
       "      <td>United States</td>\n",
       "      <td>2014</td>\n",
       "      <td>52080.792568</td>\n",
       "      <td>North America</td>\n",
       "    </tr>\n",
       "    <tr>\n",
       "      <th>3947</th>\n",
       "      <td>Saudi Arabia</td>\n",
       "      <td>2014</td>\n",
       "      <td>49731.779296</td>\n",
       "      <td>Asia</td>\n",
       "    </tr>\n",
       "    <tr>\n",
       "      <th>2186</th>\n",
       "      <td>Ireland</td>\n",
       "      <td>2014</td>\n",
       "      <td>48808.882265</td>\n",
       "      <td>Europe</td>\n",
       "    </tr>\n",
       "    <tr>\n",
       "      <th>3285</th>\n",
       "      <td>Netherlands</td>\n",
       "      <td>2014</td>\n",
       "      <td>46238.209702</td>\n",
       "      <td>Europe</td>\n",
       "    </tr>\n",
       "    <tr>\n",
       "      <th>1273</th>\n",
       "      <td>Denmark</td>\n",
       "      <td>2014</td>\n",
       "      <td>45057.074170</td>\n",
       "      <td>Europe</td>\n",
       "    </tr>\n",
       "    <tr>\n",
       "      <th>243</th>\n",
       "      <td>Austria</td>\n",
       "      <td>2014</td>\n",
       "      <td>44246.893265</td>\n",
       "      <td>Europe</td>\n",
       "    </tr>\n",
       "    <tr>\n",
       "      <th>4433</th>\n",
       "      <td>Sweden</td>\n",
       "      <td>2014</td>\n",
       "      <td>44213.877969</td>\n",
       "      <td>Europe</td>\n",
       "    </tr>\n",
       "    <tr>\n",
       "      <th>299</th>\n",
       "      <td>Bahrain</td>\n",
       "      <td>2014</td>\n",
       "      <td>43847.909052</td>\n",
       "      <td>Asia</td>\n",
       "    </tr>\n",
       "    <tr>\n",
       "      <th>215</th>\n",
       "      <td>Australia</td>\n",
       "      <td>2014</td>\n",
       "      <td>43672.130373</td>\n",
       "      <td>Oceania</td>\n",
       "    </tr>\n",
       "    <tr>\n",
       "      <th>1711</th>\n",
       "      <td>Germany</td>\n",
       "      <td>2014</td>\n",
       "      <td>43666.765146</td>\n",
       "      <td>Europe</td>\n",
       "    </tr>\n",
       "    <tr>\n",
       "      <th>876</th>\n",
       "      <td>Canada</td>\n",
       "      <td>2014</td>\n",
       "      <td>43137.713761</td>\n",
       "      <td>North America</td>\n",
       "    </tr>\n",
       "    <tr>\n",
       "      <th>2046</th>\n",
       "      <td>Iceland</td>\n",
       "      <td>2014</td>\n",
       "      <td>42774.888851</td>\n",
       "      <td>Europe</td>\n",
       "    </tr>\n",
       "    <tr>\n",
       "      <th>411</th>\n",
       "      <td>Belgium</td>\n",
       "      <td>2014</td>\n",
       "      <td>41344.636276</td>\n",
       "      <td>Europe</td>\n",
       "    </tr>\n",
       "    <tr>\n",
       "      <th>3481</th>\n",
       "      <td>Oman</td>\n",
       "      <td>2014</td>\n",
       "      <td>39700.396795</td>\n",
       "      <td>Asia</td>\n",
       "    </tr>\n",
       "    <tr>\n",
       "      <th>1599</th>\n",
       "      <td>Finland</td>\n",
       "      <td>2014</td>\n",
       "      <td>39017.537207</td>\n",
       "      <td>Europe</td>\n",
       "    </tr>\n",
       "    <tr>\n",
       "      <th>4927</th>\n",
       "      <td>United Kingdom</td>\n",
       "      <td>2014</td>\n",
       "      <td>38418.566122</td>\n",
       "      <td>Europe</td>\n",
       "    </tr>\n",
       "    <tr>\n",
       "      <th>1627</th>\n",
       "      <td>France</td>\n",
       "      <td>2014</td>\n",
       "      <td>37575.811818</td>\n",
       "      <td>Europe</td>\n",
       "    </tr>\n",
       "    <tr>\n",
       "      <th>2298</th>\n",
       "      <td>Japan</td>\n",
       "      <td>2014</td>\n",
       "      <td>37337.317406</td>\n",
       "      <td>Asia</td>\n",
       "    </tr>\n",
       "    <tr>\n",
       "      <th>...</th>\n",
       "      <td>...</td>\n",
       "      <td>...</td>\n",
       "      <td>...</td>\n",
       "      <td>...</td>\n",
       "    </tr>\n",
       "    <tr>\n",
       "      <th>4517</th>\n",
       "      <td>Tanzania</td>\n",
       "      <td>2014</td>\n",
       "      <td>2536.600088</td>\n",
       "      <td>Africa</td>\n",
       "    </tr>\n",
       "    <tr>\n",
       "      <th>1064</th>\n",
       "      <td>Comoros</td>\n",
       "      <td>2014</td>\n",
       "      <td>2525.726109</td>\n",
       "      <td>Africa</td>\n",
       "    </tr>\n",
       "    <tr>\n",
       "      <th>5200</th>\n",
       "      <td>Zimbabwe</td>\n",
       "      <td>2014</td>\n",
       "      <td>2506.490220</td>\n",
       "      <td>Africa</td>\n",
       "    </tr>\n",
       "    <tr>\n",
       "      <th>3257</th>\n",
       "      <td>Nepal</td>\n",
       "      <td>2014</td>\n",
       "      <td>2385.470716</td>\n",
       "      <td>Asia</td>\n",
       "    </tr>\n",
       "    <tr>\n",
       "      <th>4227</th>\n",
       "      <td>South Sudan</td>\n",
       "      <td>2014</td>\n",
       "      <td>2173.567092</td>\n",
       "      <td>Africa</td>\n",
       "    </tr>\n",
       "    <tr>\n",
       "      <th>4172</th>\n",
       "      <td>Solomon Islands</td>\n",
       "      <td>2014</td>\n",
       "      <td>2097.376613</td>\n",
       "      <td>Oceania</td>\n",
       "    </tr>\n",
       "    <tr>\n",
       "      <th>952</th>\n",
       "      <td>Chad</td>\n",
       "      <td>2014</td>\n",
       "      <td>2062.345069</td>\n",
       "      <td>Africa</td>\n",
       "    </tr>\n",
       "    <tr>\n",
       "      <th>467</th>\n",
       "      <td>Benin</td>\n",
       "      <td>2014</td>\n",
       "      <td>2001.052000</td>\n",
       "      <td>Africa</td>\n",
       "    </tr>\n",
       "    <tr>\n",
       "      <th>2866</th>\n",
       "      <td>Mali</td>\n",
       "      <td>2014</td>\n",
       "      <td>1868.313533</td>\n",
       "      <td>Africa</td>\n",
       "    </tr>\n",
       "    <tr>\n",
       "      <th>1851</th>\n",
       "      <td>Guinea</td>\n",
       "      <td>2014</td>\n",
       "      <td>1836.561073</td>\n",
       "      <td>Africa</td>\n",
       "    </tr>\n",
       "    <tr>\n",
       "      <th>2410</th>\n",
       "      <td>Kiribati</td>\n",
       "      <td>2014</td>\n",
       "      <td>1814.758995</td>\n",
       "      <td>Oceania</td>\n",
       "    </tr>\n",
       "    <tr>\n",
       "      <th>3</th>\n",
       "      <td>Afghanistan</td>\n",
       "      <td>2014</td>\n",
       "      <td>1795.735834</td>\n",
       "      <td>Asia</td>\n",
       "    </tr>\n",
       "    <tr>\n",
       "      <th>4843</th>\n",
       "      <td>Uganda</td>\n",
       "      <td>2014</td>\n",
       "      <td>1722.491377</td>\n",
       "      <td>Africa</td>\n",
       "    </tr>\n",
       "    <tr>\n",
       "      <th>4054</th>\n",
       "      <td>Sierra Leone</td>\n",
       "      <td>2014</td>\n",
       "      <td>1707.097335</td>\n",
       "      <td>Africa</td>\n",
       "    </tr>\n",
       "    <tr>\n",
       "      <th>3853</th>\n",
       "      <td>Rwanda</td>\n",
       "      <td>2014</td>\n",
       "      <td>1671.909602</td>\n",
       "      <td>Africa</td>\n",
       "    </tr>\n",
       "    <tr>\n",
       "      <th>1935</th>\n",
       "      <td>Haiti</td>\n",
       "      <td>2014</td>\n",
       "      <td>1656.530273</td>\n",
       "      <td>North America</td>\n",
       "    </tr>\n",
       "    <tr>\n",
       "      <th>711</th>\n",
       "      <td>Burkina Faso</td>\n",
       "      <td>2014</td>\n",
       "      <td>1582.330098</td>\n",
       "      <td>Africa</td>\n",
       "    </tr>\n",
       "    <tr>\n",
       "      <th>4601</th>\n",
       "      <td>The Gambia</td>\n",
       "      <td>2014</td>\n",
       "      <td>1442.097389</td>\n",
       "      <td>Africa</td>\n",
       "    </tr>\n",
       "    <tr>\n",
       "      <th>1879</th>\n",
       "      <td>Guinea-Bissau</td>\n",
       "      <td>2014</td>\n",
       "      <td>1425.770644</td>\n",
       "      <td>Africa</td>\n",
       "    </tr>\n",
       "    <tr>\n",
       "      <th>4647</th>\n",
       "      <td>Togo</td>\n",
       "      <td>2014</td>\n",
       "      <td>1423.553002</td>\n",
       "      <td>Africa</td>\n",
       "    </tr>\n",
       "    <tr>\n",
       "      <th>1543</th>\n",
       "      <td>Ethiopia</td>\n",
       "      <td>2014</td>\n",
       "      <td>1413.962518</td>\n",
       "      <td>Africa</td>\n",
       "    </tr>\n",
       "    <tr>\n",
       "      <th>2759</th>\n",
       "      <td>Madagascar</td>\n",
       "      <td>2014</td>\n",
       "      <td>1372.015959</td>\n",
       "      <td>Africa</td>\n",
       "    </tr>\n",
       "    <tr>\n",
       "      <th>2643</th>\n",
       "      <td>Liberia</td>\n",
       "      <td>2014</td>\n",
       "      <td>1257.625441</td>\n",
       "      <td>Africa</td>\n",
       "    </tr>\n",
       "    <tr>\n",
       "      <th>2787</th>\n",
       "      <td>Malawi</td>\n",
       "      <td>2014</td>\n",
       "      <td>1142.530804</td>\n",
       "      <td>Africa</td>\n",
       "    </tr>\n",
       "    <tr>\n",
       "      <th>3162</th>\n",
       "      <td>Mozambique</td>\n",
       "      <td>2014</td>\n",
       "      <td>1117.872529</td>\n",
       "      <td>Africa</td>\n",
       "    </tr>\n",
       "    <tr>\n",
       "      <th>3369</th>\n",
       "      <td>Niger</td>\n",
       "      <td>2014</td>\n",
       "      <td>900.136918</td>\n",
       "      <td>Africa</td>\n",
       "    </tr>\n",
       "    <tr>\n",
       "      <th>1245</th>\n",
       "      <td>Dem. Rep. Congo</td>\n",
       "      <td>2014</td>\n",
       "      <td>784.872656</td>\n",
       "      <td>Africa</td>\n",
       "    </tr>\n",
       "    <tr>\n",
       "      <th>739</th>\n",
       "      <td>Burundi</td>\n",
       "      <td>2014</td>\n",
       "      <td>768.469837</td>\n",
       "      <td>Africa</td>\n",
       "    </tr>\n",
       "    <tr>\n",
       "      <th>924</th>\n",
       "      <td>Central African Republic</td>\n",
       "      <td>2014</td>\n",
       "      <td>676.675821</td>\n",
       "      <td>Africa</td>\n",
       "    </tr>\n",
       "    <tr>\n",
       "      <th>2950</th>\n",
       "      <td>Mauritania</td>\n",
       "      <td>2014</td>\n",
       "      <td>377.908916</td>\n",
       "      <td>Africa</td>\n",
       "    </tr>\n",
       "  </tbody>\n",
       "</table>\n",
       "<p>193 rows × 4 columns</p>\n",
       "</div>"
      ],
      "text/plain": [
       "                       Country  Year  GDP_Per_Capita      Continent\n",
       "2731          Macao SAR, China  2014   130439.187070           Asia\n",
       "3779                     Qatar  2014   116693.507701           Asia\n",
       "2703                Luxembourg  2014    92349.186486         Europe\n",
       "4082                 Singapore  2014    81965.361071           Asia\n",
       "655                     Brunei  2014    76448.593329           Asia\n",
       "2484                    Kuwait  2014    72588.486007           Asia\n",
       "3453                    Norway  2014    63419.314779         Europe\n",
       "4899      United Arab Emirates  2014    62948.677902           Asia\n",
       "904             Cayman Islands  2014    62929.874528  North America\n",
       "4461               Switzerland  2014    57218.027926         Europe\n",
       "3926                San Marino  2014    56110.339084         Europe\n",
       "1991      Hong Kong SAR, China  2014    52789.412215           Asia\n",
       "4955             United States  2014    52080.792568  North America\n",
       "3947              Saudi Arabia  2014    49731.779296           Asia\n",
       "2186                   Ireland  2014    48808.882265         Europe\n",
       "3285               Netherlands  2014    46238.209702         Europe\n",
       "1273                   Denmark  2014    45057.074170         Europe\n",
       "243                    Austria  2014    44246.893265         Europe\n",
       "4433                    Sweden  2014    44213.877969         Europe\n",
       "299                    Bahrain  2014    43847.909052           Asia\n",
       "215                  Australia  2014    43672.130373        Oceania\n",
       "1711                   Germany  2014    43666.765146         Europe\n",
       "876                     Canada  2014    43137.713761  North America\n",
       "2046                   Iceland  2014    42774.888851         Europe\n",
       "411                    Belgium  2014    41344.636276         Europe\n",
       "3481                      Oman  2014    39700.396795           Asia\n",
       "1599                   Finland  2014    39017.537207         Europe\n",
       "4927            United Kingdom  2014    38418.566122         Europe\n",
       "1627                    France  2014    37575.811818         Europe\n",
       "2298                     Japan  2014    37337.317406           Asia\n",
       "...                        ...   ...             ...            ...\n",
       "4517                  Tanzania  2014     2536.600088         Africa\n",
       "1064                   Comoros  2014     2525.726109         Africa\n",
       "5200                  Zimbabwe  2014     2506.490220         Africa\n",
       "3257                     Nepal  2014     2385.470716           Asia\n",
       "4227               South Sudan  2014     2173.567092         Africa\n",
       "4172           Solomon Islands  2014     2097.376613        Oceania\n",
       "952                       Chad  2014     2062.345069         Africa\n",
       "467                      Benin  2014     2001.052000         Africa\n",
       "2866                      Mali  2014     1868.313533         Africa\n",
       "1851                    Guinea  2014     1836.561073         Africa\n",
       "2410                  Kiribati  2014     1814.758995        Oceania\n",
       "3                  Afghanistan  2014     1795.735834           Asia\n",
       "4843                    Uganda  2014     1722.491377         Africa\n",
       "4054              Sierra Leone  2014     1707.097335         Africa\n",
       "3853                    Rwanda  2014     1671.909602         Africa\n",
       "1935                     Haiti  2014     1656.530273  North America\n",
       "711               Burkina Faso  2014     1582.330098         Africa\n",
       "4601                The Gambia  2014     1442.097389         Africa\n",
       "1879             Guinea-Bissau  2014     1425.770644         Africa\n",
       "4647                      Togo  2014     1423.553002         Africa\n",
       "1543                  Ethiopia  2014     1413.962518         Africa\n",
       "2759                Madagascar  2014     1372.015959         Africa\n",
       "2643                   Liberia  2014     1257.625441         Africa\n",
       "2787                    Malawi  2014     1142.530804         Africa\n",
       "3162                Mozambique  2014     1117.872529         Africa\n",
       "3369                     Niger  2014      900.136918         Africa\n",
       "1245           Dem. Rep. Congo  2014      784.872656         Africa\n",
       "739                    Burundi  2014      768.469837         Africa\n",
       "924   Central African Republic  2014      676.675821         Africa\n",
       "2950                Mauritania  2014      377.908916         Africa\n",
       "\n",
       "[193 rows x 4 columns]"
      ]
     },
     "execution_count": 25,
     "metadata": {},
     "output_type": "execute_result"
    }
   ],
   "source": [
    "gdp_2014.sort_values('GDP_Per_Capita',ascending=False)"
   ]
  },
  {
   "cell_type": "code",
   "execution_count": 26,
   "metadata": {
    "scrolled": true
   },
   "outputs": [
    {
     "data": {
      "text/plain": [
       "Country           Mauritania\n",
       "Year                    2014\n",
       "GDP_Per_Capita       377.909\n",
       "Continent             Africa\n",
       "Name: 2950, dtype: object"
      ]
     },
     "execution_count": 26,
     "metadata": {},
     "output_type": "execute_result"
    }
   ],
   "source": [
    "gdp_2014.loc[gdp_2014['GDP_Per_Capita'].idxmin()]"
   ]
  },
  {
   "cell_type": "code",
   "execution_count": 27,
   "metadata": {},
   "outputs": [
    {
     "data": {
      "text/html": [
       "<div>\n",
       "<style scoped>\n",
       "    .dataframe tbody tr th:only-of-type {\n",
       "        vertical-align: middle;\n",
       "    }\n",
       "\n",
       "    .dataframe tbody tr th {\n",
       "        vertical-align: top;\n",
       "    }\n",
       "\n",
       "    .dataframe thead th {\n",
       "        text-align: right;\n",
       "    }\n",
       "</style>\n",
       "<table border=\"1\" class=\"dataframe\">\n",
       "  <thead>\n",
       "    <tr style=\"text-align: right;\">\n",
       "      <th></th>\n",
       "      <th>Country</th>\n",
       "      <th>Year</th>\n",
       "      <th>GDP_Per_Capita</th>\n",
       "      <th>Continent</th>\n",
       "    </tr>\n",
       "  </thead>\n",
       "  <tbody>\n",
       "    <tr>\n",
       "      <th>2731</th>\n",
       "      <td>Macao SAR, China</td>\n",
       "      <td>2014</td>\n",
       "      <td>130439.187070</td>\n",
       "      <td>Asia</td>\n",
       "    </tr>\n",
       "    <tr>\n",
       "      <th>3779</th>\n",
       "      <td>Qatar</td>\n",
       "      <td>2014</td>\n",
       "      <td>116693.507701</td>\n",
       "      <td>Asia</td>\n",
       "    </tr>\n",
       "    <tr>\n",
       "      <th>2703</th>\n",
       "      <td>Luxembourg</td>\n",
       "      <td>2014</td>\n",
       "      <td>92349.186486</td>\n",
       "      <td>Europe</td>\n",
       "    </tr>\n",
       "    <tr>\n",
       "      <th>4082</th>\n",
       "      <td>Singapore</td>\n",
       "      <td>2014</td>\n",
       "      <td>81965.361071</td>\n",
       "      <td>Asia</td>\n",
       "    </tr>\n",
       "    <tr>\n",
       "      <th>655</th>\n",
       "      <td>Brunei</td>\n",
       "      <td>2014</td>\n",
       "      <td>76448.593329</td>\n",
       "      <td>Asia</td>\n",
       "    </tr>\n",
       "  </tbody>\n",
       "</table>\n",
       "</div>"
      ],
      "text/plain": [
       "               Country  Year  GDP_Per_Capita Continent\n",
       "2731  Macao SAR, China  2014   130439.187070      Asia\n",
       "3779             Qatar  2014   116693.507701      Asia\n",
       "2703        Luxembourg  2014    92349.186486    Europe\n",
       "4082         Singapore  2014    81965.361071      Asia\n",
       "655             Brunei  2014    76448.593329      Asia"
      ]
     },
     "execution_count": 27,
     "metadata": {},
     "output_type": "execute_result"
    }
   ],
   "source": [
    "gdp_2014.nlargest(5,'GDP_Per_Capita') #nsmallest"
   ]
  },
  {
   "cell_type": "markdown",
   "metadata": {},
   "source": [
    "### 16 Add a column to your 2014 dataframe called 'GDP_Group'. In this column, assign each country to one of three categories: \"Low\" if the country's GDP Per Capita is below the 25th percentile of GDP Per Capita, \"Medium\" if it is between the 25th and 75th percentile, and \"High\" if it is above the 75th percentile. How do the continents differ in terms of numbers of countries in each group?\n",
    "In the Low group, there are more Africa countries and fewer NA countries.\n",
    "In the Mid group, there are more Asian countries and fewer Oceania countries.\n",
    "In the High group, there are more European countries and fewer Africa countries."
   ]
  },
  {
   "cell_type": "code",
   "execution_count": 28,
   "metadata": {},
   "outputs": [
    {
     "name": "stderr",
     "output_type": "stream",
     "text": [
      "C:\\ProgramData\\Anaconda3\\lib\\site-packages\\ipykernel_launcher.py:1: SettingWithCopyWarning: \n",
      "A value is trying to be set on a copy of a slice from a DataFrame.\n",
      "Try using .loc[row_indexer,col_indexer] = value instead\n",
      "\n",
      "See the caveats in the documentation: http://pandas.pydata.org/pandas-docs/stable/indexing.html#indexing-view-versus-copy\n",
      "  \"\"\"Entry point for launching an IPython kernel.\n"
     ]
    }
   ],
   "source": [
    "gdp_2014['Percentile']=gdp_2014.GDP_Per_Capita.rank(pct=True)"
   ]
  },
  {
   "cell_type": "code",
   "execution_count": 29,
   "metadata": {},
   "outputs": [
    {
     "data": {
      "text/html": [
       "<div>\n",
       "<style scoped>\n",
       "    .dataframe tbody tr th:only-of-type {\n",
       "        vertical-align: middle;\n",
       "    }\n",
       "\n",
       "    .dataframe tbody tr th {\n",
       "        vertical-align: top;\n",
       "    }\n",
       "\n",
       "    .dataframe thead th {\n",
       "        text-align: right;\n",
       "    }\n",
       "</style>\n",
       "<table border=\"1\" class=\"dataframe\">\n",
       "  <thead>\n",
       "    <tr style=\"text-align: right;\">\n",
       "      <th></th>\n",
       "      <th>Country</th>\n",
       "      <th>Year</th>\n",
       "      <th>GDP_Per_Capita</th>\n",
       "      <th>Continent</th>\n",
       "      <th>Percentile</th>\n",
       "    </tr>\n",
       "  </thead>\n",
       "  <tbody>\n",
       "    <tr>\n",
       "      <th>3</th>\n",
       "      <td>Afghanistan</td>\n",
       "      <td>2014</td>\n",
       "      <td>1795.735834</td>\n",
       "      <td>Asia</td>\n",
       "      <td>0.098446</td>\n",
       "    </tr>\n",
       "    <tr>\n",
       "      <th>19</th>\n",
       "      <td>Albania</td>\n",
       "      <td>2014</td>\n",
       "      <td>10700.522802</td>\n",
       "      <td>Europe</td>\n",
       "      <td>0.461140</td>\n",
       "    </tr>\n",
       "    <tr>\n",
       "      <th>47</th>\n",
       "      <td>Algeria</td>\n",
       "      <td>2014</td>\n",
       "      <td>13549.025150</td>\n",
       "      <td>Africa</td>\n",
       "      <td>0.549223</td>\n",
       "    </tr>\n",
       "    <tr>\n",
       "      <th>75</th>\n",
       "      <td>Angola</td>\n",
       "      <td>2014</td>\n",
       "      <td>6813.052106</td>\n",
       "      <td>Africa</td>\n",
       "      <td>0.352332</td>\n",
       "    </tr>\n",
       "    <tr>\n",
       "      <th>103</th>\n",
       "      <td>Antigua and Barbuda</td>\n",
       "      <td>2014</td>\n",
       "      <td>20820.551057</td>\n",
       "      <td>North America</td>\n",
       "      <td>0.683938</td>\n",
       "    </tr>\n",
       "  </tbody>\n",
       "</table>\n",
       "</div>"
      ],
      "text/plain": [
       "                 Country  Year  GDP_Per_Capita      Continent  Percentile\n",
       "3            Afghanistan  2014     1795.735834           Asia    0.098446\n",
       "19               Albania  2014    10700.522802         Europe    0.461140\n",
       "47               Algeria  2014    13549.025150         Africa    0.549223\n",
       "75                Angola  2014     6813.052106         Africa    0.352332\n",
       "103  Antigua and Barbuda  2014    20820.551057  North America    0.683938"
      ]
     },
     "execution_count": 29,
     "metadata": {},
     "output_type": "execute_result"
    }
   ],
   "source": [
    "gdp_2014.head(5)"
   ]
  },
  {
   "cell_type": "code",
   "execution_count": 30,
   "metadata": {
    "scrolled": false
   },
   "outputs": [
    {
     "name": "stderr",
     "output_type": "stream",
     "text": [
      "C:\\ProgramData\\Anaconda3\\lib\\site-packages\\pandas\\core\\indexing.py:362: SettingWithCopyWarning: \n",
      "A value is trying to be set on a copy of a slice from a DataFrame.\n",
      "Try using .loc[row_indexer,col_indexer] = value instead\n",
      "\n",
      "See the caveats in the documentation: http://pandas.pydata.org/pandas-docs/stable/indexing.html#indexing-view-versus-copy\n",
      "  self.obj[key] = _infer_fill_value(value)\n",
      "C:\\ProgramData\\Anaconda3\\lib\\site-packages\\pandas\\core\\indexing.py:543: SettingWithCopyWarning: \n",
      "A value is trying to be set on a copy of a slice from a DataFrame.\n",
      "Try using .loc[row_indexer,col_indexer] = value instead\n",
      "\n",
      "See the caveats in the documentation: http://pandas.pydata.org/pandas-docs/stable/indexing.html#indexing-view-versus-copy\n",
      "  self.obj[item] = s\n"
     ]
    }
   ],
   "source": [
    "gdp_2014.loc[gdp_2014.Percentile <= 0.25, 'GDP_Group'] = 'Low' \n",
    "gdp_2014.loc[(gdp_2014.Percentile < 0.75)&(gdp_2014.Percentile > 0.25), 'GDP_Group'] = 'Medium' \n",
    "gdp_2014.loc[gdp_2014.Percentile >= 0.75, 'GDP_Group'] = 'High' \n"
   ]
  },
  {
   "cell_type": "code",
   "execution_count": 31,
   "metadata": {},
   "outputs": [
    {
     "data": {
      "image/png": "[encoded data removed]",
      "text/plain": [
       "<Figure size 576x360 with 1 Axes>"
      ]
     },
     "metadata": {
      "needs_background": "light"
     },
     "output_type": "display_data"
    }
   ],
   "source": [
    "gdp_2014.groupby(['GDP_Group','Continent']).Country.nunique().plot(kind='barh',figsize=(8, 5), rot=0);"
   ]
  },
  {
   "cell_type": "markdown",
   "metadata": {},
   "source": [
    "### 17 Create a histogram of GDP Per Capita numbers for 2014 (you may wish to adjust the number of bins for your histogram). What can you say about the distribution of GDP per capita figures in 2014?\n",
    "- Right skew. "
   ]
  },
  {
   "cell_type": "code",
   "execution_count": 32,
   "metadata": {
    "scrolled": false
   },
   "outputs": [
    {
     "data": {
      "image/png": "[encoded data removed]",
      "text/plain": [
       "<Figure size 432x288 with 1 Axes>"
      ]
     },
     "metadata": {
      "needs_background": "light"
     },
     "output_type": "display_data"
    }
   ],
   "source": [
    "import matplotlib.pyplot as plt\n",
    "from matplotlib.ticker import MaxNLocator\n",
    "ax = plt.figure().gca()\n",
    "ax.yaxis.set_major_locator(MaxNLocator(integer=True))\n",
    "\n",
    "plt.hist(gdp_2014.GDP_Per_Capita, bins=100)\n",
    "plt.ylabel('Country Count',labelpad=10)\n",
    "plt.xlabel(\"GDP_Per_Capita\", labelpad=10)\n",
    "plt.title(\"Histogram of GDP Per Capita In 2014\", y=1.05);"
   ]
  },
  {
   "cell_type": "markdown",
   "metadata": {},
   "source": [
    "### 18 Using the scipy function, find the skewness of the GDP per Capita values for 2014. You may not be familiar with this particular statistic, so if you're not, do a little research. Does the value you got make sense considering the histogram you plotted above?\n",
    "Yes, this value makes sense considering the histogram plotted above."
   ]
  },
  {
   "cell_type": "code",
   "execution_count": 33,
   "metadata": {},
   "outputs": [
    {
     "name": "stdout",
     "output_type": "stream",
     "text": [
      "The above distribution's skew level is at 2.226222580604096\n"
     ]
    }
   ],
   "source": [
    "from scipy.stats import skew\n",
    "print(\"The above distribution's skew level is at \" + str(skew(gdp_2014.GDP_Per_Capita)))"
   ]
  },
  {
   "cell_type": "markdown",
   "metadata": {},
   "source": [
    "### 19 Creat a seaborn boxplot showing GDP per capita in 2014 split out by continent. What do you notice?\n",
    "I notice some outliers in the Asia group. Also, Europe has the highest medium and Africa has the lowest medium."
   ]
  },
  {
   "cell_type": "code",
   "execution_count": 34,
   "metadata": {
    "scrolled": true
   },
   "outputs": [
    {
     "data": {
      "image/png": "[encoded data removed]",
      "text/plain": [
       "<Figure size 432x288 with 1 Axes>"
      ]
     },
     "metadata": {
      "needs_background": "light"
     },
     "output_type": "display_data"
    }
   ],
   "source": [
    "GDP_per_capita_boxplots=sns.boxplot(x='Continent', y='GDP_Per_Capita', data=gdp_2014)"
   ]
  },
  {
   "cell_type": "markdown",
   "metadata": {},
   "source": [
    "### 20. Pivot the data (using the pandas .pivot() method) so that we can calculate % change in GDP Per Capita from 1990 to 2017 - drop any countries that are missing GDP numbers for at least one of these two years."
   ]
  },
  {
   "cell_type": "code",
   "execution_count": 35,
   "metadata": {},
   "outputs": [
    {
     "data": {
      "text/html": [
       "<div>\n",
       "<style scoped>\n",
       "    .dataframe tbody tr th:only-of-type {\n",
       "        vertical-align: middle;\n",
       "    }\n",
       "\n",
       "    .dataframe tbody tr th {\n",
       "        vertical-align: top;\n",
       "    }\n",
       "\n",
       "    .dataframe thead th {\n",
       "        text-align: right;\n",
       "    }\n",
       "</style>\n",
       "<table border=\"1\" class=\"dataframe\">\n",
       "  <thead>\n",
       "    <tr style=\"text-align: right;\">\n",
       "      <th></th>\n",
       "      <th>Country</th>\n",
       "      <th>Year</th>\n",
       "      <th>GDP_Per_Capita</th>\n",
       "      <th>Continent</th>\n",
       "    </tr>\n",
       "  </thead>\n",
       "  <tbody>\n",
       "    <tr>\n",
       "      <th>0</th>\n",
       "      <td>Afghanistan</td>\n",
       "      <td>2017</td>\n",
       "      <td>1758.465636</td>\n",
       "      <td>Asia</td>\n",
       "    </tr>\n",
       "    <tr>\n",
       "      <th>1</th>\n",
       "      <td>Afghanistan</td>\n",
       "      <td>2016</td>\n",
       "      <td>1757.023490</td>\n",
       "      <td>Asia</td>\n",
       "    </tr>\n",
       "    <tr>\n",
       "      <th>2</th>\n",
       "      <td>Afghanistan</td>\n",
       "      <td>2015</td>\n",
       "      <td>1766.593077</td>\n",
       "      <td>Asia</td>\n",
       "    </tr>\n",
       "    <tr>\n",
       "      <th>3</th>\n",
       "      <td>Afghanistan</td>\n",
       "      <td>2014</td>\n",
       "      <td>1795.735834</td>\n",
       "      <td>Asia</td>\n",
       "    </tr>\n",
       "    <tr>\n",
       "      <th>4</th>\n",
       "      <td>Afghanistan</td>\n",
       "      <td>2013</td>\n",
       "      <td>1807.762344</td>\n",
       "      <td>Asia</td>\n",
       "    </tr>\n",
       "  </tbody>\n",
       "</table>\n",
       "</div>"
      ],
      "text/plain": [
       "       Country  Year  GDP_Per_Capita Continent\n",
       "0  Afghanistan  2017     1758.465636      Asia\n",
       "1  Afghanistan  2016     1757.023490      Asia\n",
       "2  Afghanistan  2015     1766.593077      Asia\n",
       "3  Afghanistan  2014     1795.735834      Asia\n",
       "4  Afghanistan  2013     1807.762344      Asia"
      ]
     },
     "execution_count": 35,
     "metadata": {},
     "output_type": "execute_result"
    }
   ],
   "source": [
    "gdp_df.head(5)"
   ]
  },
  {
   "cell_type": "code",
   "execution_count": 36,
   "metadata": {
    "scrolled": true
   },
   "outputs": [],
   "source": [
    "gdp_df_by_year=gdp_df.pivot(index='Country',columns='Year',values='GDP_Per_Capita')"
   ]
  },
  {
   "cell_type": "code",
   "execution_count": 37,
   "metadata": {},
   "outputs": [],
   "source": [
    "gdp_df_by_year_1990_2017=gdp_df_by_year.loc[:,[1990,2017]]"
   ]
  },
  {
   "cell_type": "code",
   "execution_count": 38,
   "metadata": {},
   "outputs": [
    {
     "data": {
      "text/html": [
       "<div>\n",
       "<style scoped>\n",
       "    .dataframe tbody tr th:only-of-type {\n",
       "        vertical-align: middle;\n",
       "    }\n",
       "\n",
       "    .dataframe tbody tr th {\n",
       "        vertical-align: top;\n",
       "    }\n",
       "\n",
       "    .dataframe thead th {\n",
       "        text-align: right;\n",
       "    }\n",
       "</style>\n",
       "<table border=\"1\" class=\"dataframe\">\n",
       "  <thead>\n",
       "    <tr style=\"text-align: right;\">\n",
       "      <th>Year</th>\n",
       "      <th>1990</th>\n",
       "      <th>2017</th>\n",
       "    </tr>\n",
       "    <tr>\n",
       "      <th>Country</th>\n",
       "      <th></th>\n",
       "      <th></th>\n",
       "    </tr>\n",
       "  </thead>\n",
       "  <tbody>\n",
       "    <tr>\n",
       "      <th>Afghanistan</th>\n",
       "      <td>NaN</td>\n",
       "      <td>1758.465636</td>\n",
       "    </tr>\n",
       "    <tr>\n",
       "      <th>Albania</th>\n",
       "      <td>4458.247662</td>\n",
       "      <td>11803.283883</td>\n",
       "    </tr>\n",
       "    <tr>\n",
       "      <th>Algeria</th>\n",
       "      <td>10297.842349</td>\n",
       "      <td>13876.294642</td>\n",
       "    </tr>\n",
       "    <tr>\n",
       "      <th>Angola</th>\n",
       "      <td>4761.229638</td>\n",
       "      <td>6044.972035</td>\n",
       "    </tr>\n",
       "    <tr>\n",
       "      <th>Antigua and Barbuda</th>\n",
       "      <td>17472.946483</td>\n",
       "      <td>22855.748017</td>\n",
       "    </tr>\n",
       "  </tbody>\n",
       "</table>\n",
       "</div>"
      ],
      "text/plain": [
       "Year                         1990          2017\n",
       "Country                                        \n",
       "Afghanistan                   NaN   1758.465636\n",
       "Albania               4458.247662  11803.283883\n",
       "Algeria              10297.842349  13876.294642\n",
       "Angola                4761.229638   6044.972035\n",
       "Antigua and Barbuda  17472.946483  22855.748017"
      ]
     },
     "execution_count": 38,
     "metadata": {},
     "output_type": "execute_result"
    }
   ],
   "source": [
    "gdp_df_by_year_1990_2017.head()"
   ]
  },
  {
   "cell_type": "code",
   "execution_count": 39,
   "metadata": {},
   "outputs": [],
   "source": [
    "gdp_df_by_year_1990_2017_nonull=gdp_df_by_year_1990_2017.dropna()"
   ]
  },
  {
   "cell_type": "code",
   "execution_count": 40,
   "metadata": {},
   "outputs": [
    {
     "name": "stderr",
     "output_type": "stream",
     "text": [
      "C:\\ProgramData\\Anaconda3\\lib\\site-packages\\ipykernel_launcher.py:1: SettingWithCopyWarning: \n",
      "A value is trying to be set on a copy of a slice from a DataFrame.\n",
      "Try using .loc[row_indexer,col_indexer] = value instead\n",
      "\n",
      "See the caveats in the documentation: http://pandas.pydata.org/pandas-docs/stable/indexing.html#indexing-view-versus-copy\n",
      "  \"\"\"Entry point for launching an IPython kernel.\n"
     ]
    }
   ],
   "source": [
    "gdp_df_by_year_1990_2017_nonull['PC']=round((gdp_df_by_year_1990_2017_nonull[2017]-gdp_df_by_year_1990_2017_nonull[1990])/gdp_df_by_year_1990_2017_nonull[1990]*100,ndigits=1)"
   ]
  },
  {
   "cell_type": "code",
   "execution_count": 41,
   "metadata": {},
   "outputs": [
    {
     "data": {
      "text/html": [
       "<div>\n",
       "<style scoped>\n",
       "    .dataframe tbody tr th:only-of-type {\n",
       "        vertical-align: middle;\n",
       "    }\n",
       "\n",
       "    .dataframe tbody tr th {\n",
       "        vertical-align: top;\n",
       "    }\n",
       "\n",
       "    .dataframe thead th {\n",
       "        text-align: right;\n",
       "    }\n",
       "</style>\n",
       "<table border=\"1\" class=\"dataframe\">\n",
       "  <thead>\n",
       "    <tr style=\"text-align: right;\">\n",
       "      <th>Year</th>\n",
       "      <th>1990</th>\n",
       "      <th>2017</th>\n",
       "      <th>PC</th>\n",
       "    </tr>\n",
       "    <tr>\n",
       "      <th>Country</th>\n",
       "      <th></th>\n",
       "      <th></th>\n",
       "      <th></th>\n",
       "    </tr>\n",
       "  </thead>\n",
       "  <tbody>\n",
       "    <tr>\n",
       "      <th>Albania</th>\n",
       "      <td>4458.247662</td>\n",
       "      <td>11803.283883</td>\n",
       "      <td>164.8</td>\n",
       "    </tr>\n",
       "    <tr>\n",
       "      <th>Algeria</th>\n",
       "      <td>10297.842349</td>\n",
       "      <td>13876.294642</td>\n",
       "      <td>34.7</td>\n",
       "    </tr>\n",
       "    <tr>\n",
       "      <th>Angola</th>\n",
       "      <td>4761.229638</td>\n",
       "      <td>6044.972035</td>\n",
       "      <td>27.0</td>\n",
       "    </tr>\n",
       "    <tr>\n",
       "      <th>Antigua and Barbuda</th>\n",
       "      <td>17472.946483</td>\n",
       "      <td>22855.748017</td>\n",
       "      <td>30.8</td>\n",
       "    </tr>\n",
       "    <tr>\n",
       "      <th>Argentina</th>\n",
       "      <td>11372.823108</td>\n",
       "      <td>18945.144022</td>\n",
       "      <td>66.6</td>\n",
       "    </tr>\n",
       "  </tbody>\n",
       "</table>\n",
       "</div>"
      ],
      "text/plain": [
       "Year                         1990          2017     PC\n",
       "Country                                               \n",
       "Albania               4458.247662  11803.283883  164.8\n",
       "Algeria              10297.842349  13876.294642   34.7\n",
       "Angola                4761.229638   6044.972035   27.0\n",
       "Antigua and Barbuda  17472.946483  22855.748017   30.8\n",
       "Argentina            11372.823108  18945.144022   66.6"
      ]
     },
     "execution_count": 41,
     "metadata": {},
     "output_type": "execute_result"
    }
   ],
   "source": [
    "gdp_df_by_year_1990_2017_nonull.head(5)"
   ]
  },
  {
   "cell_type": "code",
   "execution_count": 42,
   "metadata": {
    "scrolled": true
   },
   "outputs": [],
   "source": [
    "gdp_df_by_year_1990_2017_nonull=gdp_df_by_year_1990_2017_nonull.reset_index()"
   ]
  },
  {
   "cell_type": "markdown",
   "metadata": {},
   "source": [
    "### 21 What percentage of countries or areas experienced a positive % change in GDP per capita? What percentage experienced a negative % change?\n",
    "\n",
    "89.0 percentage of countries or areas experienced a positive % change in GDP per capita; \n",
    "11.0 percentage of countries or areas experienced a positive % change in GDP per capita"
   ]
  },
  {
   "cell_type": "code",
   "execution_count": 43,
   "metadata": {},
   "outputs": [],
   "source": [
    "total_country_count = gdp_df_by_year_1990_2017_nonull['Country'].count()"
   ]
  },
  {
   "cell_type": "code",
   "execution_count": 44,
   "metadata": {},
   "outputs": [],
   "source": [
    "positive_pc_count=gdp_df_by_year_1990_2017_nonull[gdp_df_by_year_1990_2017_nonull.PC>=0]['Country'].count() "
   ]
  },
  {
   "cell_type": "code",
   "execution_count": 45,
   "metadata": {},
   "outputs": [],
   "source": [
    "negative_pc_count=gdp_df_by_year_1990_2017_nonull[gdp_df_by_year_1990_2017_nonull.PC<0]['Country'].count() "
   ]
  },
  {
   "cell_type": "code",
   "execution_count": 46,
   "metadata": {},
   "outputs": [],
   "source": [
    "positive_pc=round(positive_pc_count/total_country_count*100,ndigits=1)"
   ]
  },
  {
   "cell_type": "code",
   "execution_count": 47,
   "metadata": {},
   "outputs": [],
   "source": [
    "negative_pc=round(negative_pc_count/total_country_count*100,ndigits=1)"
   ]
  },
  {
   "cell_type": "code",
   "execution_count": 48,
   "metadata": {},
   "outputs": [
    {
     "name": "stdout",
     "output_type": "stream",
     "text": [
      "89.0 percentage of countries or areas experienced a positive % change in GDP per capita\n"
     ]
    }
   ],
   "source": [
    "print(str(positive_pc)+' percentage of countries or areas experienced a positive % change in GDP per capita')"
   ]
  },
  {
   "cell_type": "code",
   "execution_count": 49,
   "metadata": {},
   "outputs": [
    {
     "name": "stdout",
     "output_type": "stream",
     "text": [
      "11.0 percentage of countries or areas experienced a positive % change in GDP per capita\n"
     ]
    }
   ],
   "source": [
    "print(str(negative_pc)+' percentage of countries or areas experienced a positive % change in GDP per capita')"
   ]
  },
  {
   "cell_type": "markdown",
   "metadata": {},
   "source": [
    "### 22.Which country had the highest % change in GDP per capita? Create a line plot showing this country's GDP per capita from 1990 to 2017.\n",
    "Equatorial Guinea had the highest % change in GDP per capita.\t"
   ]
  },
  {
   "cell_type": "code",
   "execution_count": 50,
   "metadata": {},
   "outputs": [
    {
     "data": {
      "text/html": [
       "<div>\n",
       "<style scoped>\n",
       "    .dataframe tbody tr th:only-of-type {\n",
       "        vertical-align: middle;\n",
       "    }\n",
       "\n",
       "    .dataframe tbody tr th {\n",
       "        vertical-align: top;\n",
       "    }\n",
       "\n",
       "    .dataframe thead th {\n",
       "        text-align: right;\n",
       "    }\n",
       "</style>\n",
       "<table border=\"1\" class=\"dataframe\">\n",
       "  <thead>\n",
       "    <tr style=\"text-align: right;\">\n",
       "      <th>Year</th>\n",
       "      <th>Country</th>\n",
       "      <th>1990</th>\n",
       "      <th>2017</th>\n",
       "      <th>PC</th>\n",
       "    </tr>\n",
       "  </thead>\n",
       "  <tbody>\n",
       "    <tr>\n",
       "      <th>45</th>\n",
       "      <td>Equatorial Guinea</td>\n",
       "      <td>1017.764136</td>\n",
       "      <td>22298.942144</td>\n",
       "      <td>2091.0</td>\n",
       "    </tr>\n",
       "  </tbody>\n",
       "</table>\n",
       "</div>"
      ],
      "text/plain": [
       "Year            Country         1990          2017      PC\n",
       "45    Equatorial Guinea  1017.764136  22298.942144  2091.0"
      ]
     },
     "execution_count": 50,
     "metadata": {},
     "output_type": "execute_result"
    }
   ],
   "source": [
    "gdp_df_by_year_1990_2017_nonull.nlargest(1, 'PC')"
   ]
  },
  {
   "cell_type": "code",
   "execution_count": 51,
   "metadata": {},
   "outputs": [],
   "source": [
    "Equatorial_Guinea=gdp_df[gdp_df.Country == \"Equatorial Guinea\"]"
   ]
  },
  {
   "cell_type": "code",
   "execution_count": 52,
   "metadata": {},
   "outputs": [
    {
     "data": {
      "text/html": [
       "<div>\n",
       "<style scoped>\n",
       "    .dataframe tbody tr th:only-of-type {\n",
       "        vertical-align: middle;\n",
       "    }\n",
       "\n",
       "    .dataframe tbody tr th {\n",
       "        vertical-align: top;\n",
       "    }\n",
       "\n",
       "    .dataframe thead th {\n",
       "        text-align: right;\n",
       "    }\n",
       "</style>\n",
       "<table border=\"1\" class=\"dataframe\">\n",
       "  <thead>\n",
       "    <tr style=\"text-align: right;\">\n",
       "      <th></th>\n",
       "      <th>Country</th>\n",
       "      <th>Year</th>\n",
       "      <th>GDP_Per_Capita</th>\n",
       "      <th>Continent</th>\n",
       "    </tr>\n",
       "  </thead>\n",
       "  <tbody>\n",
       "    <tr>\n",
       "      <th>1439</th>\n",
       "      <td>Equatorial Guinea</td>\n",
       "      <td>2017</td>\n",
       "      <td>22298.942144</td>\n",
       "      <td>Africa</td>\n",
       "    </tr>\n",
       "    <tr>\n",
       "      <th>1440</th>\n",
       "      <td>Equatorial Guinea</td>\n",
       "      <td>2016</td>\n",
       "      <td>24296.603580</td>\n",
       "      <td>Africa</td>\n",
       "    </tr>\n",
       "    <tr>\n",
       "      <th>1441</th>\n",
       "      <td>Equatorial Guinea</td>\n",
       "      <td>2015</td>\n",
       "      <td>27708.638182</td>\n",
       "      <td>Africa</td>\n",
       "    </tr>\n",
       "    <tr>\n",
       "      <th>1442</th>\n",
       "      <td>Equatorial Guinea</td>\n",
       "      <td>2014</td>\n",
       "      <td>31743.410748</td>\n",
       "      <td>Africa</td>\n",
       "    </tr>\n",
       "    <tr>\n",
       "      <th>1443</th>\n",
       "      <td>Equatorial Guinea</td>\n",
       "      <td>2013</td>\n",
       "      <td>32959.108100</td>\n",
       "      <td>Africa</td>\n",
       "    </tr>\n",
       "  </tbody>\n",
       "</table>\n",
       "</div>"
      ],
      "text/plain": [
       "                Country  Year  GDP_Per_Capita Continent\n",
       "1439  Equatorial Guinea  2017    22298.942144    Africa\n",
       "1440  Equatorial Guinea  2016    24296.603580    Africa\n",
       "1441  Equatorial Guinea  2015    27708.638182    Africa\n",
       "1442  Equatorial Guinea  2014    31743.410748    Africa\n",
       "1443  Equatorial Guinea  2013    32959.108100    Africa"
      ]
     },
     "execution_count": 52,
     "metadata": {},
     "output_type": "execute_result"
    }
   ],
   "source": [
    "Equatorial_Guinea.head()"
   ]
  },
  {
   "cell_type": "code",
   "execution_count": 53,
   "metadata": {
    "scrolled": true
   },
   "outputs": [
    {
     "data": {
      "image/png": "[encoded data removed]",
      "text/plain": [
       "<Figure size 432x288 with 1 Axes>"
      ]
     },
     "metadata": {
      "needs_background": "light"
     },
     "output_type": "display_data"
    }
   ],
   "source": [
    "lines = Equatorial_Guinea.plot.line(x='Year',y='GDP_Per_Capita')"
   ]
  },
  {
   "cell_type": "markdown",
   "metadata": {},
   "source": [
    "### 23. Create another showing the country with the second highest % change in GDP. How do the trends in these countries compare?\n",
    "Equatorial Guinea had an increase from 1990 to 2008 and then dropped since then.\n",
    "China had an increase in GDP Per Capita throughtout the period, and in recent years, the increasing rate has been higher. "
   ]
  },
  {
   "cell_type": "code",
   "execution_count": 54,
   "metadata": {},
   "outputs": [
    {
     "data": {
      "text/html": [
       "<div>\n",
       "<style scoped>\n",
       "    .dataframe tbody tr th:only-of-type {\n",
       "        vertical-align: middle;\n",
       "    }\n",
       "\n",
       "    .dataframe tbody tr th {\n",
       "        vertical-align: top;\n",
       "    }\n",
       "\n",
       "    .dataframe thead th {\n",
       "        text-align: right;\n",
       "    }\n",
       "</style>\n",
       "<table border=\"1\" class=\"dataframe\">\n",
       "  <thead>\n",
       "    <tr style=\"text-align: right;\">\n",
       "      <th>Year</th>\n",
       "      <th>Country</th>\n",
       "      <th>1990</th>\n",
       "      <th>2017</th>\n",
       "      <th>PC</th>\n",
       "    </tr>\n",
       "  </thead>\n",
       "  <tbody>\n",
       "    <tr>\n",
       "      <th>45</th>\n",
       "      <td>Equatorial Guinea</td>\n",
       "      <td>1017.764136</td>\n",
       "      <td>22298.942144</td>\n",
       "      <td>2091.0</td>\n",
       "    </tr>\n",
       "    <tr>\n",
       "      <th>31</th>\n",
       "      <td>China</td>\n",
       "      <td>1521.963868</td>\n",
       "      <td>15253.993071</td>\n",
       "      <td>902.3</td>\n",
       "    </tr>\n",
       "  </tbody>\n",
       "</table>\n",
       "</div>"
      ],
      "text/plain": [
       "Year            Country         1990          2017      PC\n",
       "45    Equatorial Guinea  1017.764136  22298.942144  2091.0\n",
       "31                China  1521.963868  15253.993071   902.3"
      ]
     },
     "execution_count": 54,
     "metadata": {},
     "output_type": "execute_result"
    }
   ],
   "source": [
    "gdp_df_by_year_1990_2017_nonull.nlargest(2, 'PC')"
   ]
  },
  {
   "cell_type": "code",
   "execution_count": 55,
   "metadata": {},
   "outputs": [],
   "source": [
    "China=gdp_df[gdp_df.Country == \"China\"] "
   ]
  },
  {
   "cell_type": "code",
   "execution_count": 56,
   "metadata": {},
   "outputs": [
    {
     "data": {
      "image/png": "[encoded data removed]",
      "text/plain": [
       "<Figure size 432x288 with 1 Axes>"
      ]
     },
     "metadata": {
      "needs_background": "light"
     },
     "output_type": "display_data"
    }
   ],
   "source": [
    "lines = China.plot.line(x='Year',y='GDP_Per_Capita')"
   ]
  },
  {
   "cell_type": "markdown",
   "metadata": {},
   "source": [
    "### 24 Read in internet_use.csv into a DataFrame called internet_df. You will most likely get an error message when doing this - figure out what is going wrong and fix it. Take a look at the first and last five rows and make any corrections to your read_csv() call to fix this. Again, do not modify the original datasets."
   ]
  },
  {
   "cell_type": "code",
   "execution_count": 57,
   "metadata": {
    "scrolled": false
   },
   "outputs": [],
   "source": [
    "internet_df = pd.read_csv('../data/internet_use.csv',nrows=4495)"
   ]
  },
  {
   "cell_type": "code",
   "execution_count": 58,
   "metadata": {},
   "outputs": [],
   "source": [
    "del internet_df['Value Footnotes']"
   ]
  },
  {
   "cell_type": "code",
   "execution_count": 59,
   "metadata": {},
   "outputs": [
    {
     "data": {
      "text/html": [
       "<div>\n",
       "<style scoped>\n",
       "    .dataframe tbody tr th:only-of-type {\n",
       "        vertical-align: middle;\n",
       "    }\n",
       "\n",
       "    .dataframe tbody tr th {\n",
       "        vertical-align: top;\n",
       "    }\n",
       "\n",
       "    .dataframe thead th {\n",
       "        text-align: right;\n",
       "    }\n",
       "</style>\n",
       "<table border=\"1\" class=\"dataframe\">\n",
       "  <thead>\n",
       "    <tr style=\"text-align: right;\">\n",
       "      <th></th>\n",
       "      <th>Country or Area</th>\n",
       "      <th>Year</th>\n",
       "      <th>Value</th>\n",
       "    </tr>\n",
       "  </thead>\n",
       "  <tbody>\n",
       "    <tr>\n",
       "      <th>0</th>\n",
       "      <td>Afghanistan</td>\n",
       "      <td>2014</td>\n",
       "      <td>6.390000</td>\n",
       "    </tr>\n",
       "    <tr>\n",
       "      <th>1</th>\n",
       "      <td>Afghanistan</td>\n",
       "      <td>2013</td>\n",
       "      <td>5.900000</td>\n",
       "    </tr>\n",
       "    <tr>\n",
       "      <th>2</th>\n",
       "      <td>Afghanistan</td>\n",
       "      <td>2012</td>\n",
       "      <td>5.454545</td>\n",
       "    </tr>\n",
       "    <tr>\n",
       "      <th>3</th>\n",
       "      <td>Afghanistan</td>\n",
       "      <td>2011</td>\n",
       "      <td>5.000000</td>\n",
       "    </tr>\n",
       "    <tr>\n",
       "      <th>4</th>\n",
       "      <td>Afghanistan</td>\n",
       "      <td>2010</td>\n",
       "      <td>4.000000</td>\n",
       "    </tr>\n",
       "  </tbody>\n",
       "</table>\n",
       "</div>"
      ],
      "text/plain": [
       "  Country or Area  Year     Value\n",
       "0     Afghanistan  2014  6.390000\n",
       "1     Afghanistan  2013  5.900000\n",
       "2     Afghanistan  2012  5.454545\n",
       "3     Afghanistan  2011  5.000000\n",
       "4     Afghanistan  2010  4.000000"
      ]
     },
     "execution_count": 59,
     "metadata": {},
     "output_type": "execute_result"
    }
   ],
   "source": [
    "internet_df.head()"
   ]
  },
  {
   "cell_type": "markdown",
   "metadata": {},
   "source": [
    "### 25. How many rows and columns does this new dataset have? What are the types of its columns?"
   ]
  },
  {
   "cell_type": "code",
   "execution_count": 60,
   "metadata": {},
   "outputs": [
    {
     "data": {
      "text/plain": [
       "(4495, 3)"
      ]
     },
     "execution_count": 60,
     "metadata": {},
     "output_type": "execute_result"
    }
   ],
   "source": [
    "internet_df.shape"
   ]
  },
  {
   "cell_type": "code",
   "execution_count": 61,
   "metadata": {},
   "outputs": [
    {
     "name": "stdout",
     "output_type": "stream",
     "text": [
      "<class 'pandas.core.frame.DataFrame'>\n",
      "RangeIndex: 4495 entries, 0 to 4494\n",
      "Data columns (total 3 columns):\n",
      "Country or Area    4495 non-null object\n",
      "Year               4495 non-null int64\n",
      "Value              4495 non-null float64\n",
      "dtypes: float64(1), int64(1), object(1)\n",
      "memory usage: 105.4+ KB\n"
     ]
    }
   ],
   "source": [
    "internet_df.info()"
   ]
  },
  {
   "cell_type": "markdown",
   "metadata": {},
   "source": [
    "### 26. Change the columns for the Internet Users data frame to ‘Country’, ‘Year’, and ‘Internet_Users_Pct’."
   ]
  },
  {
   "cell_type": "code",
   "execution_count": 62,
   "metadata": {},
   "outputs": [],
   "source": [
    "internet_df.columns=['Country','Year','Internet_Users_Pct']"
   ]
  },
  {
   "cell_type": "code",
   "execution_count": 63,
   "metadata": {
    "scrolled": true
   },
   "outputs": [
    {
     "data": {
      "text/html": [
       "<div>\n",
       "<style scoped>\n",
       "    .dataframe tbody tr th:only-of-type {\n",
       "        vertical-align: middle;\n",
       "    }\n",
       "\n",
       "    .dataframe tbody tr th {\n",
       "        vertical-align: top;\n",
       "    }\n",
       "\n",
       "    .dataframe thead th {\n",
       "        text-align: right;\n",
       "    }\n",
       "</style>\n",
       "<table border=\"1\" class=\"dataframe\">\n",
       "  <thead>\n",
       "    <tr style=\"text-align: right;\">\n",
       "      <th></th>\n",
       "      <th>Country</th>\n",
       "      <th>Year</th>\n",
       "      <th>Internet_Users_Pct</th>\n",
       "    </tr>\n",
       "  </thead>\n",
       "  <tbody>\n",
       "    <tr>\n",
       "      <th>0</th>\n",
       "      <td>Afghanistan</td>\n",
       "      <td>2014</td>\n",
       "      <td>6.390000</td>\n",
       "    </tr>\n",
       "    <tr>\n",
       "      <th>1</th>\n",
       "      <td>Afghanistan</td>\n",
       "      <td>2013</td>\n",
       "      <td>5.900000</td>\n",
       "    </tr>\n",
       "    <tr>\n",
       "      <th>2</th>\n",
       "      <td>Afghanistan</td>\n",
       "      <td>2012</td>\n",
       "      <td>5.454545</td>\n",
       "    </tr>\n",
       "    <tr>\n",
       "      <th>3</th>\n",
       "      <td>Afghanistan</td>\n",
       "      <td>2011</td>\n",
       "      <td>5.000000</td>\n",
       "    </tr>\n",
       "    <tr>\n",
       "      <th>4</th>\n",
       "      <td>Afghanistan</td>\n",
       "      <td>2010</td>\n",
       "      <td>4.000000</td>\n",
       "    </tr>\n",
       "  </tbody>\n",
       "</table>\n",
       "</div>"
      ],
      "text/plain": [
       "       Country  Year  Internet_Users_Pct\n",
       "0  Afghanistan  2014            6.390000\n",
       "1  Afghanistan  2013            5.900000\n",
       "2  Afghanistan  2012            5.454545\n",
       "3  Afghanistan  2011            5.000000\n",
       "4  Afghanistan  2010            4.000000"
      ]
     },
     "execution_count": 63,
     "metadata": {},
     "output_type": "execute_result"
    }
   ],
   "source": [
    "internet_df.head()"
   ]
  },
  {
   "cell_type": "markdown",
   "metadata": {},
   "source": [
    "### 27. Merge gdf_df and internet_df (on Country and Year) into a single DataFrame named gdp_and_internet_use. Keep only countries and years that appear in both tables."
   ]
  },
  {
   "cell_type": "code",
   "execution_count": 64,
   "metadata": {},
   "outputs": [],
   "source": [
    "gdp_and_internet_use=pd.merge(gdp_df,internet_df,how='inner',on=['Country','Year'])"
   ]
  },
  {
   "cell_type": "markdown",
   "metadata": {},
   "source": [
    "### 28. Merge gdf_df and internet_df (on Country and Year) into a single DataFrame named gdp_and_internet_use. Keep only countries and years that appear in both tables."
   ]
  },
  {
   "cell_type": "code",
   "execution_count": 65,
   "metadata": {},
   "outputs": [
    {
     "data": {
      "text/html": [
       "<div>\n",
       "<style scoped>\n",
       "    .dataframe tbody tr th:only-of-type {\n",
       "        vertical-align: middle;\n",
       "    }\n",
       "\n",
       "    .dataframe tbody tr th {\n",
       "        vertical-align: top;\n",
       "    }\n",
       "\n",
       "    .dataframe thead th {\n",
       "        text-align: right;\n",
       "    }\n",
       "</style>\n",
       "<table border=\"1\" class=\"dataframe\">\n",
       "  <thead>\n",
       "    <tr style=\"text-align: right;\">\n",
       "      <th></th>\n",
       "      <th>Country</th>\n",
       "      <th>Year</th>\n",
       "      <th>GDP_Per_Capita</th>\n",
       "      <th>Continent</th>\n",
       "      <th>Internet_Users_Pct</th>\n",
       "    </tr>\n",
       "  </thead>\n",
       "  <tbody>\n",
       "    <tr>\n",
       "      <th>0</th>\n",
       "      <td>Afghanistan</td>\n",
       "      <td>2014</td>\n",
       "      <td>1795.735834</td>\n",
       "      <td>Asia</td>\n",
       "      <td>6.390000</td>\n",
       "    </tr>\n",
       "    <tr>\n",
       "      <th>1</th>\n",
       "      <td>Afghanistan</td>\n",
       "      <td>2013</td>\n",
       "      <td>1807.762344</td>\n",
       "      <td>Asia</td>\n",
       "      <td>5.900000</td>\n",
       "    </tr>\n",
       "    <tr>\n",
       "      <th>2</th>\n",
       "      <td>Afghanistan</td>\n",
       "      <td>2012</td>\n",
       "      <td>1772.764974</td>\n",
       "      <td>Asia</td>\n",
       "      <td>5.454545</td>\n",
       "    </tr>\n",
       "    <tr>\n",
       "      <th>3</th>\n",
       "      <td>Afghanistan</td>\n",
       "      <td>2011</td>\n",
       "      <td>1626.764793</td>\n",
       "      <td>Asia</td>\n",
       "      <td>5.000000</td>\n",
       "    </tr>\n",
       "    <tr>\n",
       "      <th>4</th>\n",
       "      <td>Afghanistan</td>\n",
       "      <td>2010</td>\n",
       "      <td>1671.581238</td>\n",
       "      <td>Asia</td>\n",
       "      <td>4.000000</td>\n",
       "    </tr>\n",
       "  </tbody>\n",
       "</table>\n",
       "</div>"
      ],
      "text/plain": [
       "       Country  Year  GDP_Per_Capita Continent  Internet_Users_Pct\n",
       "0  Afghanistan  2014     1795.735834      Asia            6.390000\n",
       "1  Afghanistan  2013     1807.762344      Asia            5.900000\n",
       "2  Afghanistan  2012     1772.764974      Asia            5.454545\n",
       "3  Afghanistan  2011     1626.764793      Asia            5.000000\n",
       "4  Afghanistan  2010     1671.581238      Asia            4.000000"
      ]
     },
     "execution_count": 65,
     "metadata": {},
     "output_type": "execute_result"
    }
   ],
   "source": [
    "gdp_and_internet_use.head()"
   ]
  },
  {
   "cell_type": "code",
   "execution_count": 66,
   "metadata": {},
   "outputs": [
    {
     "data": {
      "text/html": [
       "<div>\n",
       "<style scoped>\n",
       "    .dataframe tbody tr th:only-of-type {\n",
       "        vertical-align: middle;\n",
       "    }\n",
       "\n",
       "    .dataframe tbody tr th {\n",
       "        vertical-align: top;\n",
       "    }\n",
       "\n",
       "    .dataframe thead th {\n",
       "        text-align: right;\n",
       "    }\n",
       "</style>\n",
       "<table border=\"1\" class=\"dataframe\">\n",
       "  <thead>\n",
       "    <tr style=\"text-align: right;\">\n",
       "      <th></th>\n",
       "      <th>Country</th>\n",
       "      <th>Year</th>\n",
       "      <th>GDP_Per_Capita</th>\n",
       "      <th>Continent</th>\n",
       "      <th>Internet_Users_Pct</th>\n",
       "    </tr>\n",
       "  </thead>\n",
       "  <tbody>\n",
       "    <tr>\n",
       "      <th>3528</th>\n",
       "      <td>Zimbabwe</td>\n",
       "      <td>1997</td>\n",
       "      <td>3036.422224</td>\n",
       "      <td>Africa</td>\n",
       "      <td>0.033080</td>\n",
       "    </tr>\n",
       "    <tr>\n",
       "      <th>3529</th>\n",
       "      <td>Zimbabwe</td>\n",
       "      <td>1996</td>\n",
       "      <td>2985.856605</td>\n",
       "      <td>Africa</td>\n",
       "      <td>0.016790</td>\n",
       "    </tr>\n",
       "    <tr>\n",
       "      <th>3530</th>\n",
       "      <td>Zimbabwe</td>\n",
       "      <td>1995</td>\n",
       "      <td>2736.486436</td>\n",
       "      <td>Africa</td>\n",
       "      <td>0.007684</td>\n",
       "    </tr>\n",
       "    <tr>\n",
       "      <th>3531</th>\n",
       "      <td>Zimbabwe</td>\n",
       "      <td>1994</td>\n",
       "      <td>2768.309953</td>\n",
       "      <td>Africa</td>\n",
       "      <td>0.001739</td>\n",
       "    </tr>\n",
       "    <tr>\n",
       "      <th>3532</th>\n",
       "      <td>Zimbabwe</td>\n",
       "      <td>1990</td>\n",
       "      <td>2819.549467</td>\n",
       "      <td>Africa</td>\n",
       "      <td>0.000000</td>\n",
       "    </tr>\n",
       "  </tbody>\n",
       "</table>\n",
       "</div>"
      ],
      "text/plain": [
       "       Country  Year  GDP_Per_Capita Continent  Internet_Users_Pct\n",
       "3528  Zimbabwe  1997     3036.422224    Africa            0.033080\n",
       "3529  Zimbabwe  1996     2985.856605    Africa            0.016790\n",
       "3530  Zimbabwe  1995     2736.486436    Africa            0.007684\n",
       "3531  Zimbabwe  1994     2768.309953    Africa            0.001739\n",
       "3532  Zimbabwe  1990     2819.549467    Africa            0.000000"
      ]
     },
     "execution_count": 66,
     "metadata": {},
     "output_type": "execute_result"
    }
   ],
   "source": [
    "gdp_and_internet_use.tail()"
   ]
  },
  {
   "cell_type": "markdown",
   "metadata": {},
   "source": [
    "### 29. Create a new DataFrame, named gdp_and_internet_use_2014 by extracting data for the year 2014 from gdp_and_internet_use. \n",
    "### What is the mean internet users percentage in 2014? \n",
    "44.6%\n",
    "### How many countries have at least 90% internet users in 2014?\n",
    "12 countries have at least 90% internet users in 2014"
   ]
  },
  {
   "cell_type": "code",
   "execution_count": 67,
   "metadata": {},
   "outputs": [],
   "source": [
    "gdp_and_internet_use_2014=gdp_and_internet_use[gdp_and_internet_use['Year']==2014]"
   ]
  },
  {
   "cell_type": "code",
   "execution_count": 68,
   "metadata": {},
   "outputs": [
    {
     "name": "stdout",
     "output_type": "stream",
     "text": [
      "44.6%\n"
     ]
    }
   ],
   "source": [
    "print(str(round(gdp_and_internet_use_2014['Internet_Users_Pct'].mean(),1))+\"%\")"
   ]
  },
  {
   "cell_type": "code",
   "execution_count": 69,
   "metadata": {},
   "outputs": [
    {
     "data": {
      "text/html": [
       "<div>\n",
       "<style scoped>\n",
       "    .dataframe tbody tr th:only-of-type {\n",
       "        vertical-align: middle;\n",
       "    }\n",
       "\n",
       "    .dataframe tbody tr th {\n",
       "        vertical-align: top;\n",
       "    }\n",
       "\n",
       "    .dataframe thead th {\n",
       "        text-align: right;\n",
       "    }\n",
       "</style>\n",
       "<table border=\"1\" class=\"dataframe\">\n",
       "  <thead>\n",
       "    <tr style=\"text-align: right;\">\n",
       "      <th></th>\n",
       "      <th>Country</th>\n",
       "      <th>Year</th>\n",
       "      <th>GDP_Per_Capita</th>\n",
       "      <th>Continent</th>\n",
       "      <th>Internet_Users_Pct</th>\n",
       "    </tr>\n",
       "  </thead>\n",
       "  <tbody>\n",
       "    <tr>\n",
       "      <th>0</th>\n",
       "      <td>Afghanistan</td>\n",
       "      <td>2014</td>\n",
       "      <td>1795.735834</td>\n",
       "      <td>Asia</td>\n",
       "      <td>6.39</td>\n",
       "    </tr>\n",
       "    <tr>\n",
       "      <th>13</th>\n",
       "      <td>Albania</td>\n",
       "      <td>2014</td>\n",
       "      <td>10700.522802</td>\n",
       "      <td>Europe</td>\n",
       "      <td>60.10</td>\n",
       "    </tr>\n",
       "    <tr>\n",
       "      <th>34</th>\n",
       "      <td>Algeria</td>\n",
       "      <td>2014</td>\n",
       "      <td>13549.025150</td>\n",
       "      <td>Africa</td>\n",
       "      <td>18.09</td>\n",
       "    </tr>\n",
       "    <tr>\n",
       "      <th>56</th>\n",
       "      <td>Angola</td>\n",
       "      <td>2014</td>\n",
       "      <td>6813.052106</td>\n",
       "      <td>Africa</td>\n",
       "      <td>21.26</td>\n",
       "    </tr>\n",
       "    <tr>\n",
       "      <th>76</th>\n",
       "      <td>Antigua and Barbuda</td>\n",
       "      <td>2014</td>\n",
       "      <td>20820.551057</td>\n",
       "      <td>North America</td>\n",
       "      <td>64.00</td>\n",
       "    </tr>\n",
       "  </tbody>\n",
       "</table>\n",
       "</div>"
      ],
      "text/plain": [
       "                Country  Year  GDP_Per_Capita      Continent  \\\n",
       "0           Afghanistan  2014     1795.735834           Asia   \n",
       "13              Albania  2014    10700.522802         Europe   \n",
       "34              Algeria  2014    13549.025150         Africa   \n",
       "56               Angola  2014     6813.052106         Africa   \n",
       "76  Antigua and Barbuda  2014    20820.551057  North America   \n",
       "\n",
       "    Internet_Users_Pct  \n",
       "0                 6.39  \n",
       "13               60.10  \n",
       "34               18.09  \n",
       "56               21.26  \n",
       "76               64.00  "
      ]
     },
     "execution_count": 69,
     "metadata": {},
     "output_type": "execute_result"
    }
   ],
   "source": [
    "gdp_and_internet_use_2014.head()"
   ]
  },
  {
   "cell_type": "code",
   "execution_count": 70,
   "metadata": {},
   "outputs": [
    {
     "name": "stdout",
     "output_type": "stream",
     "text": [
      "12 countries have at least 90% internet users in 2014\n"
     ]
    }
   ],
   "source": [
    "#df[df['col1']=='apple']\n",
    "print(str(gdp_and_internet_use_2014[gdp_and_internet_use_2014['Internet_Users_Pct']>=90].Country.count())+' countries have at least 90% internet users in 2014')"
   ]
  },
  {
   "cell_type": "markdown",
   "metadata": {},
   "source": [
    "### 30. Find the countries that had the top 5 largest GDP per capita figures for 2014. Create a seaborn FacetGrid showing the change in internet user percentage over time for these five countries. What trends do you notice?\n",
    "\n",
    "I noticed an increasing trend in each of the five plots."
   ]
  },
  {
   "cell_type": "code",
   "execution_count": 71,
   "metadata": {},
   "outputs": [],
   "source": [
    "gdp_and_internet_use_2014_top5=gdp_and_internet_use_2014.nlargest(5, 'GDP_Per_Capita')"
   ]
  },
  {
   "cell_type": "code",
   "execution_count": 72,
   "metadata": {},
   "outputs": [
    {
     "data": {
      "text/plain": [
       "['Qatar', 'Luxembourg', 'Singapore', 'Kuwait', 'Norway']"
      ]
     },
     "execution_count": 72,
     "metadata": {},
     "output_type": "execute_result"
    }
   ],
   "source": [
    "list(gdp_and_internet_use_2014_top5.Country)"
   ]
  },
  {
   "cell_type": "code",
   "execution_count": 73,
   "metadata": {},
   "outputs": [],
   "source": [
    "gdp_and_internet_use_top5 = gdp_and_internet_use[gdp_and_internet_use.Country.isin(list(gdp_and_internet_use_2014_top5.Country))]"
   ]
  },
  {
   "cell_type": "code",
   "execution_count": 74,
   "metadata": {
    "scrolled": true
   },
   "outputs": [
    {
     "data": {
      "text/html": [
       "<div>\n",
       "<style scoped>\n",
       "    .dataframe tbody tr th:only-of-type {\n",
       "        vertical-align: middle;\n",
       "    }\n",
       "\n",
       "    .dataframe tbody tr th {\n",
       "        vertical-align: top;\n",
       "    }\n",
       "\n",
       "    .dataframe thead th {\n",
       "        text-align: right;\n",
       "    }\n",
       "</style>\n",
       "<table border=\"1\" class=\"dataframe\">\n",
       "  <thead>\n",
       "    <tr style=\"text-align: right;\">\n",
       "      <th></th>\n",
       "      <th>Country</th>\n",
       "      <th>Year</th>\n",
       "      <th>GDP_Per_Capita</th>\n",
       "      <th>Continent</th>\n",
       "      <th>Internet_Users_Pct</th>\n",
       "    </tr>\n",
       "  </thead>\n",
       "  <tbody>\n",
       "    <tr>\n",
       "      <th>1685</th>\n",
       "      <td>Kuwait</td>\n",
       "      <td>2014</td>\n",
       "      <td>72588.486007</td>\n",
       "      <td>Asia</td>\n",
       "      <td>78.700000</td>\n",
       "    </tr>\n",
       "    <tr>\n",
       "      <th>1686</th>\n",
       "      <td>Kuwait</td>\n",
       "      <td>2013</td>\n",
       "      <td>75597.292936</td>\n",
       "      <td>Asia</td>\n",
       "      <td>75.460000</td>\n",
       "    </tr>\n",
       "    <tr>\n",
       "      <th>1687</th>\n",
       "      <td>Kuwait</td>\n",
       "      <td>2012</td>\n",
       "      <td>78700.458568</td>\n",
       "      <td>Asia</td>\n",
       "      <td>70.450000</td>\n",
       "    </tr>\n",
       "    <tr>\n",
       "      <th>1688</th>\n",
       "      <td>Kuwait</td>\n",
       "      <td>2011</td>\n",
       "      <td>78021.671676</td>\n",
       "      <td>Asia</td>\n",
       "      <td>65.769071</td>\n",
       "    </tr>\n",
       "    <tr>\n",
       "      <th>1689</th>\n",
       "      <td>Kuwait</td>\n",
       "      <td>2010</td>\n",
       "      <td>75359.963489</td>\n",
       "      <td>Asia</td>\n",
       "      <td>61.400000</td>\n",
       "    </tr>\n",
       "  </tbody>\n",
       "</table>\n",
       "</div>"
      ],
      "text/plain": [
       "     Country  Year  GDP_Per_Capita Continent  Internet_Users_Pct\n",
       "1685  Kuwait  2014    72588.486007      Asia           78.700000\n",
       "1686  Kuwait  2013    75597.292936      Asia           75.460000\n",
       "1687  Kuwait  2012    78700.458568      Asia           70.450000\n",
       "1688  Kuwait  2011    78021.671676      Asia           65.769071\n",
       "1689  Kuwait  2010    75359.963489      Asia           61.400000"
      ]
     },
     "execution_count": 74,
     "metadata": {},
     "output_type": "execute_result"
    }
   ],
   "source": [
    "gdp_and_internet_use_top5.head(5)"
   ]
  },
  {
   "cell_type": "code",
   "execution_count": 75,
   "metadata": {},
   "outputs": [
    {
     "data": {
      "image/png": "[encoded data removed]",
      "text/plain": [
       "<Figure size 1088.8x216 with 5 Axes>"
      ]
     },
     "metadata": {},
     "output_type": "display_data"
    }
   ],
   "source": [
    "#df.loc[df.col=='Kuwait',:]\n",
    "\n",
    "sns.set(style=\"ticks\")\n",
    "\n",
    "g = sns.FacetGrid(gdp_and_internet_use_top5, col='Country')\n",
    "g.map(plt.scatter, \"Year\", \"Internet_Users_Pct\", alpha=1)\n",
    "g.add_legend();\n"
   ]
  },
  {
   "cell_type": "markdown",
   "metadata": {},
   "source": [
    "### 31. Create a scatter plot of Internet Use vs GDP per Capita for the year 2014."
   ]
  },
  {
   "cell_type": "code",
   "execution_count": 76,
   "metadata": {},
   "outputs": [
    {
     "name": "stderr",
     "output_type": "stream",
     "text": [
      "C:\\ProgramData\\Anaconda3\\lib\\site-packages\\scipy\\stats\\stats.py:1713: FutureWarning: Using a non-tuple sequence for multidimensional indexing is deprecated; use `arr[tuple(seq)]` instead of `arr[seq]`. In the future this will be interpreted as an array index, `arr[np.array(seq)]`, which will result either in an error or a different result.\n",
      "  return np.add.reduce(sorted[indexer] * weights, axis=axis) / sumval\n"
     ]
    },
    {
     "data": {
      "image/png": "[encoded data removed]",
      "text/plain": [
       "<Figure size 432x288 with 1 Axes>"
      ]
     },
     "metadata": {},
     "output_type": "display_data"
    }
   ],
   "source": [
    "sns.regplot(x=gdp_and_internet_use_2014[\"Internet_Users_Pct\"], y=gdp_and_internet_use_2014[\"GDP_Per_Capita\"]);\n"
   ]
  },
  {
   "cell_type": "markdown",
   "metadata": {},
   "source": [
    "### 32. Find the correlation between GDP per Capita and Internet Use for the year 2014. What is the meaning of this number?\n",
    "The correlation is 0.789. This means that there is a strong uphill (positive) linear relationship between GDP per Capita and Internet Use for the year 2014."
   ]
  },
  {
   "cell_type": "code",
   "execution_count": 77,
   "metadata": {},
   "outputs": [
    {
     "data": {
      "text/plain": [
       "0.7889328658954466"
      ]
     },
     "execution_count": 77,
     "metadata": {},
     "output_type": "execute_result"
    }
   ],
   "source": [
    "gdp_and_internet_use_2014[\"GDP_Per_Capita\"].corr(gdp_and_internet_use_2014[\"Internet_Users_Pct\"])"
   ]
  },
  {
   "cell_type": "markdown",
   "metadata": {},
   "source": [
    "### 33. Using the statsmodels library, create an ordinary linear regression model with independent variable GDP per capita and dependent variable internet users percentage for the year 2014. Be sure to include an intercept term. Print the model summary. What R^2 value do you get for this model? What is the meaning of this number?\n",
    "\n",
    "R squared value is 0.622. This means that 62.2% of the variation in GDP Per Capita can be explained by this model. "
   ]
  },
  {
   "cell_type": "code",
   "execution_count": 78,
   "metadata": {
    "scrolled": false
   },
   "outputs": [
    {
     "name": "stdout",
     "output_type": "stream",
     "text": [
      "                            OLS Regression Results                            \n",
      "==============================================================================\n",
      "Dep. Variable:         GDP_Per_Capita   R-squared:                       0.622\n",
      "Model:                            OLS   Adj. R-squared:                  0.620\n",
      "Method:                 Least Squares   F-statistic:                     268.7\n",
      "Date:                Thu, 19 Sep 2019   Prob (F-statistic):           2.65e-36\n",
      "Time:                        18:23:04   Log-Likelihood:                -1780.0\n",
      "No. Observations:                 165   AIC:                             3564.\n",
      "Df Residuals:                     163   BIC:                             3570.\n",
      "Df Model:                           1                                         \n",
      "Covariance Type:            nonrobust                                         \n",
      "======================================================================================\n",
      "                         coef    std err          t      P>|t|      [0.025      0.975]\n",
      "--------------------------------------------------------------------------------------\n",
      "const              -4612.8248   1673.584     -2.756      0.007   -7917.524   -1308.125\n",
      "Internet_Users_Pct   514.8329     31.408     16.392      0.000     452.814     576.852\n",
      "==============================================================================\n",
      "Omnibus:                      117.019   Durbin-Watson:                   2.072\n",
      "Prob(Omnibus):                  0.000   Jarque-Bera (JB):             1059.528\n",
      "Skew:                           2.543   Prob(JB):                    8.44e-231\n",
      "Kurtosis:                      14.325   Cond. No.                         97.2\n",
      "==============================================================================\n",
      "\n",
      "Warnings:\n",
      "[1] Standard Errors assume that the covariance matrix of the errors is correctly specified.\n"
     ]
    }
   ],
   "source": [
    "X = sm.add_constant(gdp_and_internet_use_2014[\"Internet_Users_Pct\"])\n",
    "\n",
    "model = sm.OLS(gdp_and_internet_use_2014[\"GDP_Per_Capita\"],X )\n",
    "ols_result = model.fit()\n",
    "print(ols_result.summary())"
   ]
  },
  {
   "cell_type": "markdown",
   "metadata": {},
   "source": [
    "### 34. Add a column to gdp_and_internet_use_2014 and calculate the logarithm of GDP per capita. Find the correlation between the log of GDP per capita and internet users percentage. Run an ordinary linear regression with response variable internet users and explanatory variable the log of the GDP per capita, and view the model summary. What is the meaning of the coefficients you get? Which of the two models that you created appears to do a better job?\n",
    "The correlation coefficient means that by increasing 1 unit of the Internet_Users_Pct,the GDP per capita will be increasing 0.0355 on average.The second model appreas to do a better job because it has a higher R squared.  \n",
    "\n"
   ]
  },
  {
   "cell_type": "code",
   "execution_count": 79,
   "metadata": {},
   "outputs": [
    {
     "name": "stderr",
     "output_type": "stream",
     "text": [
      "C:\\ProgramData\\Anaconda3\\lib\\site-packages\\ipykernel_launcher.py:1: SettingWithCopyWarning: \n",
      "A value is trying to be set on a copy of a slice from a DataFrame.\n",
      "Try using .loc[row_indexer,col_indexer] = value instead\n",
      "\n",
      "See the caveats in the documentation: http://pandas.pydata.org/pandas-docs/stable/indexing.html#indexing-view-versus-copy\n",
      "  \"\"\"Entry point for launching an IPython kernel.\n"
     ]
    }
   ],
   "source": [
    "gdp_and_internet_use_2014['Log_GDP_Per_Capita'] = gdp_and_internet_use_2014['GDP_Per_Capita'].apply(np.log)"
   ]
  },
  {
   "cell_type": "code",
   "execution_count": 80,
   "metadata": {},
   "outputs": [
    {
     "data": {
      "text/plain": [
       "0.8783135252545076"
      ]
     },
     "execution_count": 80,
     "metadata": {},
     "output_type": "execute_result"
    }
   ],
   "source": [
    "gdp_and_internet_use_2014[\"Log_GDP_Per_Capita\"].corr(gdp_and_internet_use_2014[\"Internet_Users_Pct\"])"
   ]
  },
  {
   "cell_type": "code",
   "execution_count": 81,
   "metadata": {},
   "outputs": [
    {
     "name": "stdout",
     "output_type": "stream",
     "text": [
      "                            OLS Regression Results                            \n",
      "==============================================================================\n",
      "Dep. Variable:     Log_GDP_Per_Capita   R-squared:                       0.771\n",
      "Model:                            OLS   Adj. R-squared:                  0.770\n",
      "Method:                 Least Squares   F-statistic:                     550.1\n",
      "Date:                Thu, 19 Sep 2019   Prob (F-statistic):           4.07e-54\n",
      "Time:                        18:23:04   Log-Likelihood:                -139.74\n",
      "No. Observations:                 165   AIC:                             283.5\n",
      "Df Residuals:                     163   BIC:                             289.7\n",
      "Df Model:                           1                                         \n",
      "Covariance Type:            nonrobust                                         \n",
      "======================================================================================\n",
      "                         coef    std err          t      P>|t|      [0.025      0.975]\n",
      "--------------------------------------------------------------------------------------\n",
      "const                  7.6574      0.081     95.031      0.000       7.498       7.817\n",
      "Internet_Users_Pct     0.0355      0.002     23.455      0.000       0.032       0.038\n",
      "==============================================================================\n",
      "Omnibus:                       18.510   Durbin-Watson:                   2.008\n",
      "Prob(Omnibus):                  0.000   Jarque-Bera (JB):               34.967\n",
      "Skew:                           0.528   Prob(JB):                     2.55e-08\n",
      "Kurtosis:                       4.993   Cond. No.                         97.2\n",
      "==============================================================================\n",
      "\n",
      "Warnings:\n",
      "[1] Standard Errors assume that the covariance matrix of the errors is correctly specified.\n"
     ]
    }
   ],
   "source": [
    "X = sm.add_constant(gdp_and_internet_use_2014[\"Internet_Users_Pct\"])\n",
    "\n",
    "model = sm.OLS(gdp_and_internet_use_2014[\"Log_GDP_Per_Capita\"],X )\n",
    "ols_result = model.fit()\n",
    "print(ols_result.summary())"
   ]
  },
  {
   "cell_type": "markdown",
   "metadata": {},
   "source": [
    "### 35. Filter the original dataset down to just the United States for all available years. Calculate correlation between internet use and gdp per capita. Is this meaningful or useful?\n",
    "\n",
    "I think this is useful. There is a strong assiciation between internet use and gdp per capita in the US."
   ]
  },
  {
   "cell_type": "code",
   "execution_count": 82,
   "metadata": {},
   "outputs": [],
   "source": [
    "gdp_and_internet_use_US=gdp_and_internet_use[gdp_and_internet_use['Country']=='United States']"
   ]
  },
  {
   "cell_type": "code",
   "execution_count": 83,
   "metadata": {},
   "outputs": [
    {
     "data": {
      "text/plain": [
       "0.991618022957524"
      ]
     },
     "execution_count": 83,
     "metadata": {},
     "output_type": "execute_result"
    }
   ],
   "source": [
    "gdp_and_internet_use_US[\"GDP_Per_Capita\"].corr(gdp_and_internet_use_US[\"Internet_Users_Pct\"])"
   ]
  },
  {
   "cell_type": "code",
   "execution_count": 84,
   "metadata": {},
   "outputs": [
    {
     "name": "stderr",
     "output_type": "stream",
     "text": [
      "C:\\ProgramData\\Anaconda3\\lib\\site-packages\\scipy\\stats\\stats.py:1713: FutureWarning: Using a non-tuple sequence for multidimensional indexing is deprecated; use `arr[tuple(seq)]` instead of `arr[seq]`. In the future this will be interpreted as an array index, `arr[np.array(seq)]`, which will result either in an error or a different result.\n",
      "  return np.add.reduce(sorted[indexer] * weights, axis=axis) / sumval\n"
     ]
    },
    {
     "data": {
      "text/plain": [
       "<matplotlib.axes._subplots.AxesSubplot at 0x1be5954ee10>"
      ]
     },
     "execution_count": 84,
     "metadata": {},
     "output_type": "execute_result"
    },
    {
     "data": {
      "image/png": "[encoded data removed]",
      "text/plain": [
       "<Figure size 432x288 with 1 Axes>"
      ]
     },
     "metadata": {},
     "output_type": "display_data"
    }
   ],
   "source": [
    "sns.regplot(x=gdp_and_internet_use_US[\"Internet_Users_Pct\"], y=gdp_and_internet_use_US[\"GDP_Per_Capita\"])\n"
   ]
  },
  {
   "cell_type": "code",
   "execution_count": 85,
   "metadata": {},
   "outputs": [
    {
     "data": {
      "image/png": "[encoded data removed]",
      "text/plain": [
       "<Figure size 224.8x216 with 1 Axes>"
      ]
     },
     "metadata": {},
     "output_type": "display_data"
    }
   ],
   "source": [
    "sns.set(style=\"ticks\")\n",
    "\n",
    "g = sns.FacetGrid(gdp_and_internet_use.loc[gdp_and_internet_use.Country=='United States',:], col='Country')\n",
    "g.map(plt.scatter, \"Year\", \"Internet_Users_Pct\", alpha=1)\n",
    "g.add_legend();"
   ]
  },
  {
   "cell_type": "code",
   "execution_count": 86,
   "metadata": {},
   "outputs": [
    {
     "data": {
      "image/png": "[encoded data removed]",
      "text/plain": [
       "<Figure size 224.8x216 with 1 Axes>"
      ]
     },
     "metadata": {},
     "output_type": "display_data"
    }
   ],
   "source": [
    "sns.set(style=\"ticks\")\n",
    "\n",
    "g = sns.FacetGrid(gdp_and_internet_use.loc[gdp_and_internet_use.Country=='United States',:], col='Country')\n",
    "g.map(plt.scatter, \"Year\", \"GDP_Per_Capita\", alpha=1)\n",
    "g.add_legend();"
   ]
  },
  {
   "cell_type": "markdown",
   "metadata": {},
   "source": [
    "# Solo Exploration and Presentation:"
   ]
  },
  {
   "cell_type": "markdown",
   "metadata": {},
   "source": [
    "### Choose and download another data set from the UN data (http://data.un.org/Explorer.aspx) to merge with your data and explore.\n",
    "I chose a dataset contains all CPI and CPI % Chg by country. I saved it at the folder where other data files are stored. I renamed it as `cpi.csv`."
   ]
  },
  {
   "cell_type": "markdown",
   "metadata": {},
   "source": [
    "## Section One: Data Prep\n",
    "\n",
    "### Step 1: New Data Set (CPI) Overview"
   ]
  },
  {
   "cell_type": "code",
   "execution_count": 220,
   "metadata": {},
   "outputs": [],
   "source": [
    "cpi = pd.read_csv('../data/cpi.csv')"
   ]
  },
  {
   "cell_type": "code",
   "execution_count": 221,
   "metadata": {},
   "outputs": [
    {
     "data": {
      "text/html": [
       "<div>\n",
       "<style scoped>\n",
       "    .dataframe tbody tr th:only-of-type {\n",
       "        vertical-align: middle;\n",
       "    }\n",
       "\n",
       "    .dataframe tbody tr th {\n",
       "        vertical-align: top;\n",
       "    }\n",
       "\n",
       "    .dataframe thead th {\n",
       "        text-align: right;\n",
       "    }\n",
       "</style>\n",
       "<table border=\"1\" class=\"dataframe\">\n",
       "  <thead>\n",
       "    <tr style=\"text-align: right;\">\n",
       "      <th></th>\n",
       "      <th>OID</th>\n",
       "      <th>Country or Area</th>\n",
       "      <th>Year</th>\n",
       "      <th>Description</th>\n",
       "      <th>Magnitude</th>\n",
       "      <th>Value</th>\n",
       "    </tr>\n",
       "  </thead>\n",
       "  <tbody>\n",
       "    <tr>\n",
       "      <th>0</th>\n",
       "      <td>11064..XZF...</td>\n",
       "      <td>ADVANCED ECONOMIES</td>\n",
       "      <td>2009</td>\n",
       "      <td>CPI % CHANGE</td>\n",
       "      <td>PERCENT PER ANNU</td>\n",
       "      <td>-0.098047</td>\n",
       "    </tr>\n",
       "    <tr>\n",
       "      <th>1</th>\n",
       "      <td>11064...ZF...</td>\n",
       "      <td>ADVANCED ECONOMIES</td>\n",
       "      <td>2009</td>\n",
       "      <td>CPI</td>\n",
       "      <td>INDEX NUMBER</td>\n",
       "      <td>108.057000</td>\n",
       "    </tr>\n",
       "    <tr>\n",
       "      <th>2</th>\n",
       "      <td>11064..XZF...</td>\n",
       "      <td>ADVANCED ECONOMIES</td>\n",
       "      <td>2008</td>\n",
       "      <td>CPI % CHANGE</td>\n",
       "      <td>PERCENT PER ANNU</td>\n",
       "      <td>3.350780</td>\n",
       "    </tr>\n",
       "    <tr>\n",
       "      <th>3</th>\n",
       "      <td>11064...ZF...</td>\n",
       "      <td>ADVANCED ECONOMIES</td>\n",
       "      <td>2008</td>\n",
       "      <td>CPI</td>\n",
       "      <td>INDEX NUMBER</td>\n",
       "      <td>108.163000</td>\n",
       "    </tr>\n",
       "    <tr>\n",
       "      <th>4</th>\n",
       "      <td>11064..XZF...</td>\n",
       "      <td>ADVANCED ECONOMIES</td>\n",
       "      <td>2007</td>\n",
       "      <td>CPI % CHANGE</td>\n",
       "      <td>PERCENT PER ANNU</td>\n",
       "      <td>2.264320</td>\n",
       "    </tr>\n",
       "  </tbody>\n",
       "</table>\n",
       "</div>"
      ],
      "text/plain": [
       "             OID     Country or Area  Year   Description         Magnitude  \\\n",
       "0  11064..XZF...  ADVANCED ECONOMIES  2009  CPI % CHANGE  PERCENT PER ANNU   \n",
       "1  11064...ZF...  ADVANCED ECONOMIES  2009           CPI      INDEX NUMBER   \n",
       "2  11064..XZF...  ADVANCED ECONOMIES  2008  CPI % CHANGE  PERCENT PER ANNU   \n",
       "3  11064...ZF...  ADVANCED ECONOMIES  2008           CPI      INDEX NUMBER   \n",
       "4  11064..XZF...  ADVANCED ECONOMIES  2007  CPI % CHANGE  PERCENT PER ANNU   \n",
       "\n",
       "        Value  \n",
       "0   -0.098047  \n",
       "1  108.057000  \n",
       "2    3.350780  \n",
       "3  108.163000  \n",
       "4    2.264320  "
      ]
     },
     "execution_count": 221,
     "metadata": {},
     "output_type": "execute_result"
    }
   ],
   "source": [
    "cpi.head(5)"
   ]
  },
  {
   "cell_type": "code",
   "execution_count": 222,
   "metadata": {},
   "outputs": [
    {
     "data": {
      "text/html": [
       "<div>\n",
       "<style scoped>\n",
       "    .dataframe tbody tr th:only-of-type {\n",
       "        vertical-align: middle;\n",
       "    }\n",
       "\n",
       "    .dataframe tbody tr th {\n",
       "        vertical-align: top;\n",
       "    }\n",
       "\n",
       "    .dataframe thead th {\n",
       "        text-align: right;\n",
       "    }\n",
       "</style>\n",
       "<table border=\"1\" class=\"dataframe\">\n",
       "  <thead>\n",
       "    <tr style=\"text-align: right;\">\n",
       "      <th></th>\n",
       "      <th>OID</th>\n",
       "      <th>Country or Area</th>\n",
       "      <th>Year</th>\n",
       "      <th>Description</th>\n",
       "      <th>Magnitude</th>\n",
       "      <th>Value</th>\n",
       "    </tr>\n",
       "  </thead>\n",
       "  <tbody>\n",
       "    <tr>\n",
       "      <th>15490</th>\n",
       "      <td>69864..XZF...</td>\n",
       "      <td>ZIMBABWE</td>\n",
       "      <td>1966</td>\n",
       "      <td>CPI % CHANGE</td>\n",
       "      <td>PERCENT PER ANNU</td>\n",
       "      <td>3.121950</td>\n",
       "    </tr>\n",
       "    <tr>\n",
       "      <th>15491</th>\n",
       "      <td>69864.A.ZF...</td>\n",
       "      <td>ZIMBABWE</td>\n",
       "      <td>1966</td>\n",
       "      <td>CONSUMER PRICE INDEX</td>\n",
       "      <td>INDEX NUMBER</td>\n",
       "      <td>0.000002</td>\n",
       "    </tr>\n",
       "    <tr>\n",
       "      <th>15492</th>\n",
       "      <td>69864..XZF...</td>\n",
       "      <td>ZIMBABWE</td>\n",
       "      <td>1965</td>\n",
       "      <td>CPI % CHANGE</td>\n",
       "      <td>PERCENT PER ANNU</td>\n",
       "      <td>2.500000</td>\n",
       "    </tr>\n",
       "    <tr>\n",
       "      <th>15493</th>\n",
       "      <td>69864.A.ZF...</td>\n",
       "      <td>ZIMBABWE</td>\n",
       "      <td>1965</td>\n",
       "      <td>CONSUMER PRICE INDEX</td>\n",
       "      <td>INDEX NUMBER</td>\n",
       "      <td>0.000002</td>\n",
       "    </tr>\n",
       "    <tr>\n",
       "      <th>15494</th>\n",
       "      <td>69864.A.ZF...</td>\n",
       "      <td>ZIMBABWE</td>\n",
       "      <td>1964</td>\n",
       "      <td>CONSUMER PRICE INDEX</td>\n",
       "      <td>INDEX NUMBER</td>\n",
       "      <td>0.000002</td>\n",
       "    </tr>\n",
       "  </tbody>\n",
       "</table>\n",
       "</div>"
      ],
      "text/plain": [
       "                 OID Country or Area  Year           Description  \\\n",
       "15490  69864..XZF...        ZIMBABWE  1966          CPI % CHANGE   \n",
       "15491  69864.A.ZF...        ZIMBABWE  1966  CONSUMER PRICE INDEX   \n",
       "15492  69864..XZF...        ZIMBABWE  1965          CPI % CHANGE   \n",
       "15493  69864.A.ZF...        ZIMBABWE  1965  CONSUMER PRICE INDEX   \n",
       "15494  69864.A.ZF...        ZIMBABWE  1964  CONSUMER PRICE INDEX   \n",
       "\n",
       "              Magnitude     Value  \n",
       "15490  PERCENT PER ANNU  3.121950  \n",
       "15491      INDEX NUMBER  0.000002  \n",
       "15492  PERCENT PER ANNU  2.500000  \n",
       "15493      INDEX NUMBER  0.000002  \n",
       "15494      INDEX NUMBER  0.000002  "
      ]
     },
     "execution_count": 222,
     "metadata": {},
     "output_type": "execute_result"
    }
   ],
   "source": [
    "cpi.tail(5)"
   ]
  },
  {
   "cell_type": "markdown",
   "metadata": {},
   "source": [
    "## Section One: Data Prep\n",
    "\n",
    "### Step 2: New Data Set (CPI) Column Renaming"
   ]
  },
  {
   "cell_type": "code",
   "execution_count": 224,
   "metadata": {},
   "outputs": [
    {
     "data": {
      "text/plain": [
       "Index(['OID', 'Country_or_Area', 'Year', 'Description', 'Magnitude', 'Value'], dtype='object')"
      ]
     },
     "execution_count": 224,
     "metadata": {},
     "output_type": "execute_result"
    }
   ],
   "source": [
    "cpi.columns = [x.replace(' ', '_') for x in cpi.columns]\n",
    "cpi.columns"
   ]
  },
  {
   "cell_type": "code",
   "execution_count": 225,
   "metadata": {},
   "outputs": [],
   "source": [
    "cpi.columns = ['OID', 'Country','Year', 'Description', 'Magnitude', 'CPI_Value']"
   ]
  },
  {
   "cell_type": "markdown",
   "metadata": {},
   "source": [
    "## Section One: Data Prep\n",
    "\n",
    "### Step 3: New Data Set (CPI) Subsetting"
   ]
  },
  {
   "cell_type": "code",
   "execution_count": 266,
   "metadata": {
    "scrolled": true
   },
   "outputs": [
    {
     "data": {
      "text/html": [
       "<div>\n",
       "<style scoped>\n",
       "    .dataframe tbody tr th:only-of-type {\n",
       "        vertical-align: middle;\n",
       "    }\n",
       "\n",
       "    .dataframe tbody tr th {\n",
       "        vertical-align: top;\n",
       "    }\n",
       "\n",
       "    .dataframe thead th {\n",
       "        text-align: right;\n",
       "    }\n",
       "</style>\n",
       "<table border=\"1\" class=\"dataframe\">\n",
       "  <thead>\n",
       "    <tr style=\"text-align: right;\">\n",
       "      <th></th>\n",
       "      <th>Description</th>\n",
       "      <th>OID</th>\n",
       "      <th>Country</th>\n",
       "      <th>Year</th>\n",
       "      <th>Magnitude</th>\n",
       "      <th>CPI_Value</th>\n",
       "    </tr>\n",
       "  </thead>\n",
       "  <tbody>\n",
       "    <tr>\n",
       "      <th>17</th>\n",
       "      <td>CPI % CHANGE</td>\n",
       "      <td>7482</td>\n",
       "      <td>7482</td>\n",
       "      <td>7482</td>\n",
       "      <td>7456</td>\n",
       "      <td>7482</td>\n",
       "    </tr>\n",
       "    <tr>\n",
       "      <th>8</th>\n",
       "      <td>CONSUMER PRICES</td>\n",
       "      <td>587</td>\n",
       "      <td>587</td>\n",
       "      <td>587</td>\n",
       "      <td>568</td>\n",
       "      <td>587</td>\n",
       "    </tr>\n",
       "    <tr>\n",
       "      <th>2</th>\n",
       "      <td>CONSUMER PRICE INDEX</td>\n",
       "      <td>559</td>\n",
       "      <td>559</td>\n",
       "      <td>559</td>\n",
       "      <td>548</td>\n",
       "      <td>559</td>\n",
       "    </tr>\n",
       "    <tr>\n",
       "      <th>15</th>\n",
       "      <td>CPI</td>\n",
       "      <td>535</td>\n",
       "      <td>535</td>\n",
       "      <td>535</td>\n",
       "      <td>535</td>\n",
       "      <td>535</td>\n",
       "    </tr>\n",
       "    <tr>\n",
       "      <th>119</th>\n",
       "      <td>HARMONIZED CPI</td>\n",
       "      <td>197</td>\n",
       "      <td>197</td>\n",
       "      <td>197</td>\n",
       "      <td>197</td>\n",
       "      <td>197</td>\n",
       "    </tr>\n",
       "    <tr>\n",
       "      <th>57</th>\n",
       "      <td>CPI: ALL ITEMS</td>\n",
       "      <td>173</td>\n",
       "      <td>173</td>\n",
       "      <td>173</td>\n",
       "      <td>173</td>\n",
       "      <td>173</td>\n",
       "    </tr>\n",
       "    <tr>\n",
       "      <th>37</th>\n",
       "      <td>CPI NATIONAL</td>\n",
       "      <td>168</td>\n",
       "      <td>168</td>\n",
       "      <td>168</td>\n",
       "      <td>167</td>\n",
       "      <td>168</td>\n",
       "    </tr>\n",
       "    <tr>\n",
       "      <th>121</th>\n",
       "      <td>HARMONIZED CPI 2005=100</td>\n",
       "      <td>143</td>\n",
       "      <td>143</td>\n",
       "      <td>143</td>\n",
       "      <td>143</td>\n",
       "      <td>143</td>\n",
       "    </tr>\n",
       "    <tr>\n",
       "      <th>113</th>\n",
       "      <td>CPI:URBAN AREAS</td>\n",
       "      <td>124</td>\n",
       "      <td>124</td>\n",
       "      <td>124</td>\n",
       "      <td>124</td>\n",
       "      <td>124</td>\n",
       "    </tr>\n",
       "    <tr>\n",
       "      <th>77</th>\n",
       "      <td>CPI:ALL COUNTRY</td>\n",
       "      <td>119</td>\n",
       "      <td>119</td>\n",
       "      <td>119</td>\n",
       "      <td>119</td>\n",
       "      <td>119</td>\n",
       "    </tr>\n",
       "    <tr>\n",
       "      <th>28</th>\n",
       "      <td>CPI CAPITAL CITY</td>\n",
       "      <td>111</td>\n",
       "      <td>111</td>\n",
       "      <td>111</td>\n",
       "      <td>111</td>\n",
       "      <td>111</td>\n",
       "    </tr>\n",
       "    <tr>\n",
       "      <th>118</th>\n",
       "      <td>HARM. CONSUMER PRICE INDEX</td>\n",
       "      <td>67</td>\n",
       "      <td>67</td>\n",
       "      <td>67</td>\n",
       "      <td>67</td>\n",
       "      <td>67</td>\n",
       "    </tr>\n",
       "    <tr>\n",
       "      <th>26</th>\n",
       "      <td>CPI ALL ITEMS CITY AVERAGE</td>\n",
       "      <td>62</td>\n",
       "      <td>62</td>\n",
       "      <td>62</td>\n",
       "      <td>62</td>\n",
       "      <td>62</td>\n",
       "    </tr>\n",
       "    <tr>\n",
       "      <th>29</th>\n",
       "      <td>CPI CONTINENTAL</td>\n",
       "      <td>62</td>\n",
       "      <td>62</td>\n",
       "      <td>62</td>\n",
       "      <td>62</td>\n",
       "      <td>62</td>\n",
       "    </tr>\n",
       "    <tr>\n",
       "      <th>52</th>\n",
       "      <td>CPI: 1352 H'HOLDS, 13 LOCAL.</td>\n",
       "      <td>62</td>\n",
       "      <td>62</td>\n",
       "      <td>62</td>\n",
       "      <td>62</td>\n",
       "      <td>62</td>\n",
       "    </tr>\n",
       "    <tr>\n",
       "      <th>88</th>\n",
       "      <td>CPI:ALL JAPAN-485 ITEMS</td>\n",
       "      <td>62</td>\n",
       "      <td>62</td>\n",
       "      <td>62</td>\n",
       "      <td>62</td>\n",
       "      <td>62</td>\n",
       "    </tr>\n",
       "    <tr>\n",
       "      <th>32</th>\n",
       "      <td>CPI LOW &amp; MIDDLE INCOME URBAN</td>\n",
       "      <td>62</td>\n",
       "      <td>62</td>\n",
       "      <td>62</td>\n",
       "      <td>62</td>\n",
       "      <td>62</td>\n",
       "    </tr>\n",
       "    <tr>\n",
       "      <th>50</th>\n",
       "      <td>CPI: (NO SPECIFICS AVAIL.)</td>\n",
       "      <td>62</td>\n",
       "      <td>62</td>\n",
       "      <td>62</td>\n",
       "      <td>62</td>\n",
       "      <td>62</td>\n",
       "    </tr>\n",
       "    <tr>\n",
       "      <th>91</th>\n",
       "      <td>CPI:COLOMBO 455 MNUAL WRKRFAM</td>\n",
       "      <td>62</td>\n",
       "      <td>62</td>\n",
       "      <td>62</td>\n",
       "      <td>62</td>\n",
       "      <td>62</td>\n",
       "    </tr>\n",
       "    <tr>\n",
       "      <th>96</th>\n",
       "      <td>CPI:GT ASUNCION-WORKERS'H'HLD</td>\n",
       "      <td>62</td>\n",
       "      <td>62</td>\n",
       "      <td>62</td>\n",
       "      <td>62</td>\n",
       "      <td>62</td>\n",
       "    </tr>\n",
       "    <tr>\n",
       "      <th>87</th>\n",
       "      <td>CPI:ALL ITALY</td>\n",
       "      <td>62</td>\n",
       "      <td>62</td>\n",
       "      <td>62</td>\n",
       "      <td>62</td>\n",
       "      <td>62</td>\n",
       "    </tr>\n",
       "    <tr>\n",
       "      <th>41</th>\n",
       "      <td>CPI TOTAL URBAN POPULATION</td>\n",
       "      <td>62</td>\n",
       "      <td>62</td>\n",
       "      <td>62</td>\n",
       "      <td>62</td>\n",
       "      <td>62</td>\n",
       "    </tr>\n",
       "    <tr>\n",
       "      <th>25</th>\n",
       "      <td>CPI ALL INCOME GROUPS CARACAS</td>\n",
       "      <td>62</td>\n",
       "      <td>62</td>\n",
       "      <td>62</td>\n",
       "      <td>62</td>\n",
       "      <td>62</td>\n",
       "    </tr>\n",
       "    <tr>\n",
       "      <th>55</th>\n",
       "      <td>CPI: ALL COUNTRY</td>\n",
       "      <td>62</td>\n",
       "      <td>62</td>\n",
       "      <td>62</td>\n",
       "      <td>62</td>\n",
       "      <td>62</td>\n",
       "    </tr>\n",
       "    <tr>\n",
       "      <th>81</th>\n",
       "      <td>CPI:ALL GROUPS,62 CENTERS</td>\n",
       "      <td>62</td>\n",
       "      <td>62</td>\n",
       "      <td>62</td>\n",
       "      <td>62</td>\n",
       "      <td>62</td>\n",
       "    </tr>\n",
       "    <tr>\n",
       "      <th>22</th>\n",
       "      <td>CPI 20 TOWNS</td>\n",
       "      <td>62</td>\n",
       "      <td>62</td>\n",
       "      <td>62</td>\n",
       "      <td>62</td>\n",
       "      <td>62</td>\n",
       "    </tr>\n",
       "    <tr>\n",
       "      <th>71</th>\n",
       "      <td>CPI:22 DEPT CAPS-LOW&amp;MID INC</td>\n",
       "      <td>62</td>\n",
       "      <td>62</td>\n",
       "      <td>62</td>\n",
       "      <td>62</td>\n",
       "      <td>62</td>\n",
       "    </tr>\n",
       "    <tr>\n",
       "      <th>76</th>\n",
       "      <td>CPI:ALL CITIES POP OVR.30,000</td>\n",
       "      <td>62</td>\n",
       "      <td>62</td>\n",
       "      <td>62</td>\n",
       "      <td>62</td>\n",
       "      <td>62</td>\n",
       "    </tr>\n",
       "    <tr>\n",
       "      <th>6</th>\n",
       "      <td>CONSUMER PRICE INDEX: NATIONA</td>\n",
       "      <td>62</td>\n",
       "      <td>62</td>\n",
       "      <td>62</td>\n",
       "      <td>62</td>\n",
       "      <td>62</td>\n",
       "    </tr>\n",
       "    <tr>\n",
       "      <th>110</th>\n",
       "      <td>CPI:PANAMA CITY(FAM.ALL INC.)</td>\n",
       "      <td>62</td>\n",
       "      <td>62</td>\n",
       "      <td>62</td>\n",
       "      <td>62</td>\n",
       "      <td>62</td>\n",
       "    </tr>\n",
       "    <tr>\n",
       "      <th>...</th>\n",
       "      <td>...</td>\n",
       "      <td>...</td>\n",
       "      <td>...</td>\n",
       "      <td>...</td>\n",
       "      <td>...</td>\n",
       "      <td>...</td>\n",
       "    </tr>\n",
       "    <tr>\n",
       "      <th>5</th>\n",
       "      <td>CONSUMER PRICE INDEX,</td>\n",
       "      <td>34</td>\n",
       "      <td>34</td>\n",
       "      <td>34</td>\n",
       "      <td>34</td>\n",
       "      <td>34</td>\n",
       "    </tr>\n",
       "    <tr>\n",
       "      <th>67</th>\n",
       "      <td>CPI: VILA: LOW INCOME</td>\n",
       "      <td>33</td>\n",
       "      <td>33</td>\n",
       "      <td>33</td>\n",
       "      <td>33</td>\n",
       "      <td>33</td>\n",
       "    </tr>\n",
       "    <tr>\n",
       "      <th>4</th>\n",
       "      <td>CONSUMER PRICE INDEX 2005=100</td>\n",
       "      <td>32</td>\n",
       "      <td>32</td>\n",
       "      <td>32</td>\n",
       "      <td>32</td>\n",
       "      <td>32</td>\n",
       "    </tr>\n",
       "    <tr>\n",
       "      <th>89</th>\n",
       "      <td>CPI:BAGHDAD FOOD,TXTIL&amp;BLDMAT</td>\n",
       "      <td>31</td>\n",
       "      <td>31</td>\n",
       "      <td>31</td>\n",
       "      <td>31</td>\n",
       "      <td>31</td>\n",
       "    </tr>\n",
       "    <tr>\n",
       "      <th>125</th>\n",
       "      <td>NATIONAL CPI 1995=10 BILLION</td>\n",
       "      <td>30</td>\n",
       "      <td>30</td>\n",
       "      <td>30</td>\n",
       "      <td>30</td>\n",
       "      <td>30</td>\n",
       "    </tr>\n",
       "    <tr>\n",
       "      <th>49</th>\n",
       "      <td>CPI:  WHOLE COUNTRY</td>\n",
       "      <td>30</td>\n",
       "      <td>30</td>\n",
       "      <td>30</td>\n",
       "      <td>30</td>\n",
       "      <td>30</td>\n",
       "    </tr>\n",
       "    <tr>\n",
       "      <th>124</th>\n",
       "      <td>NATIONAL CPI 1995=1 MILLION</td>\n",
       "      <td>30</td>\n",
       "      <td>30</td>\n",
       "      <td>30</td>\n",
       "      <td>30</td>\n",
       "      <td>30</td>\n",
       "    </tr>\n",
       "    <tr>\n",
       "      <th>123</th>\n",
       "      <td>NATIONAL CPI</td>\n",
       "      <td>30</td>\n",
       "      <td>30</td>\n",
       "      <td>30</td>\n",
       "      <td>30</td>\n",
       "      <td>30</td>\n",
       "    </tr>\n",
       "    <tr>\n",
       "      <th>92</th>\n",
       "      <td>CPI:COMPOSITE 2005=100</td>\n",
       "      <td>30</td>\n",
       "      <td>30</td>\n",
       "      <td>30</td>\n",
       "      <td>30</td>\n",
       "      <td>30</td>\n",
       "    </tr>\n",
       "    <tr>\n",
       "      <th>103</th>\n",
       "      <td>CPI:MIDDLE INCOME</td>\n",
       "      <td>29</td>\n",
       "      <td>29</td>\n",
       "      <td>29</td>\n",
       "      <td>29</td>\n",
       "      <td>29</td>\n",
       "    </tr>\n",
       "    <tr>\n",
       "      <th>10</th>\n",
       "      <td>CONSUMER PRICES 1995=100,000</td>\n",
       "      <td>28</td>\n",
       "      <td>28</td>\n",
       "      <td>28</td>\n",
       "      <td>28</td>\n",
       "      <td>28</td>\n",
       "    </tr>\n",
       "    <tr>\n",
       "      <th>42</th>\n",
       "      <td>CPI TUNIS METROPOLITAN AREA</td>\n",
       "      <td>27</td>\n",
       "      <td>27</td>\n",
       "      <td>27</td>\n",
       "      <td>27</td>\n",
       "      <td>27</td>\n",
       "    </tr>\n",
       "    <tr>\n",
       "      <th>9</th>\n",
       "      <td>CONSUMER PRICES (CAPITAL CITY)</td>\n",
       "      <td>27</td>\n",
       "      <td>27</td>\n",
       "      <td>27</td>\n",
       "      <td>27</td>\n",
       "      <td>27</td>\n",
       "    </tr>\n",
       "    <tr>\n",
       "      <th>18</th>\n",
       "      <td>CPI % CHG.OVER PREVIOUS PERIOD</td>\n",
       "      <td>26</td>\n",
       "      <td>26</td>\n",
       "      <td>26</td>\n",
       "      <td>17</td>\n",
       "      <td>26</td>\n",
       "    </tr>\n",
       "    <tr>\n",
       "      <th>47</th>\n",
       "      <td>CPI, COMPOSITE</td>\n",
       "      <td>25</td>\n",
       "      <td>25</td>\n",
       "      <td>25</td>\n",
       "      <td>25</td>\n",
       "      <td>25</td>\n",
       "    </tr>\n",
       "    <tr>\n",
       "      <th>117</th>\n",
       "      <td>FOODSTUFFS</td>\n",
       "      <td>25</td>\n",
       "      <td>25</td>\n",
       "      <td>25</td>\n",
       "      <td>25</td>\n",
       "      <td>25</td>\n",
       "    </tr>\n",
       "    <tr>\n",
       "      <th>90</th>\n",
       "      <td>CPI:BRAZZAVILLE:EUROPEAN FAM.</td>\n",
       "      <td>24</td>\n",
       "      <td>24</td>\n",
       "      <td>24</td>\n",
       "      <td>24</td>\n",
       "      <td>24</td>\n",
       "    </tr>\n",
       "    <tr>\n",
       "      <th>38</th>\n",
       "      <td>CPI NATIONAL 2005=100</td>\n",
       "      <td>24</td>\n",
       "      <td>24</td>\n",
       "      <td>24</td>\n",
       "      <td>24</td>\n",
       "      <td>24</td>\n",
       "    </tr>\n",
       "    <tr>\n",
       "      <th>7</th>\n",
       "      <td>CONSUMER PRICE INDEX:2005=100</td>\n",
       "      <td>23</td>\n",
       "      <td>23</td>\n",
       "      <td>23</td>\n",
       "      <td>23</td>\n",
       "      <td>23</td>\n",
       "    </tr>\n",
       "    <tr>\n",
       "      <th>126</th>\n",
       "      <td>WAEMU CONSUMER PRICES</td>\n",
       "      <td>19</td>\n",
       "      <td>19</td>\n",
       "      <td>19</td>\n",
       "      <td>19</td>\n",
       "      <td>19</td>\n",
       "    </tr>\n",
       "    <tr>\n",
       "      <th>43</th>\n",
       "      <td>CPI UNIFIED GERMANY</td>\n",
       "      <td>19</td>\n",
       "      <td>19</td>\n",
       "      <td>19</td>\n",
       "      <td>19</td>\n",
       "      <td>19</td>\n",
       "    </tr>\n",
       "    <tr>\n",
       "      <th>0</th>\n",
       "      <td>AZERI CPI % CHG. OVER PREV. PERIOD</td>\n",
       "      <td>18</td>\n",
       "      <td>18</td>\n",
       "      <td>18</td>\n",
       "      <td>18</td>\n",
       "      <td>18</td>\n",
       "    </tr>\n",
       "    <tr>\n",
       "      <th>46</th>\n",
       "      <td>CPI, ALL ITEMS</td>\n",
       "      <td>17</td>\n",
       "      <td>17</td>\n",
       "      <td>17</td>\n",
       "      <td>17</td>\n",
       "      <td>17</td>\n",
       "    </tr>\n",
       "    <tr>\n",
       "      <th>19</th>\n",
       "      <td>CPI %CHANGE OVER PREVIOUS PERIOD</td>\n",
       "      <td>17</td>\n",
       "      <td>17</td>\n",
       "      <td>17</td>\n",
       "      <td>17</td>\n",
       "      <td>17</td>\n",
       "    </tr>\n",
       "    <tr>\n",
       "      <th>72</th>\n",
       "      <td>CPI:3 CITIES,WORKING CLASS</td>\n",
       "      <td>16</td>\n",
       "      <td>16</td>\n",
       "      <td>16</td>\n",
       "      <td>16</td>\n",
       "      <td>16</td>\n",
       "    </tr>\n",
       "    <tr>\n",
       "      <th>1</th>\n",
       "      <td>C P I</td>\n",
       "      <td>16</td>\n",
       "      <td>16</td>\n",
       "      <td>16</td>\n",
       "      <td>16</td>\n",
       "      <td>16</td>\n",
       "    </tr>\n",
       "    <tr>\n",
       "      <th>48</th>\n",
       "      <td>CPI, LUANDA, 2005 = 100</td>\n",
       "      <td>16</td>\n",
       "      <td>16</td>\n",
       "      <td>16</td>\n",
       "      <td>16</td>\n",
       "      <td>16</td>\n",
       "    </tr>\n",
       "    <tr>\n",
       "      <th>120</th>\n",
       "      <td>HARMONIZED CPI 05=100</td>\n",
       "      <td>11</td>\n",
       "      <td>11</td>\n",
       "      <td>11</td>\n",
       "      <td>11</td>\n",
       "      <td>11</td>\n",
       "    </tr>\n",
       "    <tr>\n",
       "      <th>12</th>\n",
       "      <td>CONSUMER PRICES NATIONAL</td>\n",
       "      <td>5</td>\n",
       "      <td>5</td>\n",
       "      <td>5</td>\n",
       "      <td>0</td>\n",
       "      <td>5</td>\n",
       "    </tr>\n",
       "    <tr>\n",
       "      <th>21</th>\n",
       "      <td>CPI 1990=1,000,000</td>\n",
       "      <td>3</td>\n",
       "      <td>3</td>\n",
       "      <td>3</td>\n",
       "      <td>3</td>\n",
       "      <td>3</td>\n",
       "    </tr>\n",
       "  </tbody>\n",
       "</table>\n",
       "<p>127 rows × 6 columns</p>\n",
       "</div>"
      ],
      "text/plain": [
       "                            Description   OID  Country  Year  Magnitude  \\\n",
       "17                         CPI % CHANGE  7482     7482  7482       7456   \n",
       "8                       CONSUMER PRICES   587      587   587        568   \n",
       "2                  CONSUMER PRICE INDEX   559      559   559        548   \n",
       "15                                  CPI   535      535   535        535   \n",
       "119                      HARMONIZED CPI   197      197   197        197   \n",
       "57                       CPI: ALL ITEMS   173      173   173        173   \n",
       "37                         CPI NATIONAL   168      168   168        167   \n",
       "121             HARMONIZED CPI 2005=100   143      143   143        143   \n",
       "113                     CPI:URBAN AREAS   124      124   124        124   \n",
       "77                      CPI:ALL COUNTRY   119      119   119        119   \n",
       "28                     CPI CAPITAL CITY   111      111   111        111   \n",
       "118          HARM. CONSUMER PRICE INDEX    67       67    67         67   \n",
       "26           CPI ALL ITEMS CITY AVERAGE    62       62    62         62   \n",
       "29                      CPI CONTINENTAL    62       62    62         62   \n",
       "52         CPI: 1352 H'HOLDS, 13 LOCAL.    62       62    62         62   \n",
       "88              CPI:ALL JAPAN-485 ITEMS    62       62    62         62   \n",
       "32        CPI LOW & MIDDLE INCOME URBAN    62       62    62         62   \n",
       "50           CPI: (NO SPECIFICS AVAIL.)    62       62    62         62   \n",
       "91        CPI:COLOMBO 455 MNUAL WRKRFAM    62       62    62         62   \n",
       "96        CPI:GT ASUNCION-WORKERS'H'HLD    62       62    62         62   \n",
       "87                        CPI:ALL ITALY    62       62    62         62   \n",
       "41           CPI TOTAL URBAN POPULATION    62       62    62         62   \n",
       "25        CPI ALL INCOME GROUPS CARACAS    62       62    62         62   \n",
       "55                     CPI: ALL COUNTRY    62       62    62         62   \n",
       "81            CPI:ALL GROUPS,62 CENTERS    62       62    62         62   \n",
       "22                         CPI 20 TOWNS    62       62    62         62   \n",
       "71         CPI:22 DEPT CAPS-LOW&MID INC    62       62    62         62   \n",
       "76        CPI:ALL CITIES POP OVR.30,000    62       62    62         62   \n",
       "6         CONSUMER PRICE INDEX: NATIONA    62       62    62         62   \n",
       "110       CPI:PANAMA CITY(FAM.ALL INC.)    62       62    62         62   \n",
       "..                                  ...   ...      ...   ...        ...   \n",
       "5                 CONSUMER PRICE INDEX,    34       34    34         34   \n",
       "67                CPI: VILA: LOW INCOME    33       33    33         33   \n",
       "4         CONSUMER PRICE INDEX 2005=100    32       32    32         32   \n",
       "89        CPI:BAGHDAD FOOD,TXTIL&BLDMAT    31       31    31         31   \n",
       "125        NATIONAL CPI 1995=10 BILLION    30       30    30         30   \n",
       "49                  CPI:  WHOLE COUNTRY    30       30    30         30   \n",
       "124         NATIONAL CPI 1995=1 MILLION    30       30    30         30   \n",
       "123                        NATIONAL CPI    30       30    30         30   \n",
       "92               CPI:COMPOSITE 2005=100    30       30    30         30   \n",
       "103                   CPI:MIDDLE INCOME    29       29    29         29   \n",
       "10         CONSUMER PRICES 1995=100,000    28       28    28         28   \n",
       "42          CPI TUNIS METROPOLITAN AREA    27       27    27         27   \n",
       "9        CONSUMER PRICES (CAPITAL CITY)    27       27    27         27   \n",
       "18       CPI % CHG.OVER PREVIOUS PERIOD    26       26    26         17   \n",
       "47                       CPI, COMPOSITE    25       25    25         25   \n",
       "117                          FOODSTUFFS    25       25    25         25   \n",
       "90        CPI:BRAZZAVILLE:EUROPEAN FAM.    24       24    24         24   \n",
       "38                CPI NATIONAL 2005=100    24       24    24         24   \n",
       "7         CONSUMER PRICE INDEX:2005=100    23       23    23         23   \n",
       "126               WAEMU CONSUMER PRICES    19       19    19         19   \n",
       "43                  CPI UNIFIED GERMANY    19       19    19         19   \n",
       "0    AZERI CPI % CHG. OVER PREV. PERIOD    18       18    18         18   \n",
       "46                       CPI, ALL ITEMS    17       17    17         17   \n",
       "19     CPI %CHANGE OVER PREVIOUS PERIOD    17       17    17         17   \n",
       "72           CPI:3 CITIES,WORKING CLASS    16       16    16         16   \n",
       "1                                 C P I    16       16    16         16   \n",
       "48              CPI, LUANDA, 2005 = 100    16       16    16         16   \n",
       "120               HARMONIZED CPI 05=100    11       11    11         11   \n",
       "12             CONSUMER PRICES NATIONAL     5        5     5          0   \n",
       "21                   CPI 1990=1,000,000     3        3     3          3   \n",
       "\n",
       "     CPI_Value  \n",
       "17        7482  \n",
       "8          587  \n",
       "2          559  \n",
       "15         535  \n",
       "119        197  \n",
       "57         173  \n",
       "37         168  \n",
       "121        143  \n",
       "113        124  \n",
       "77         119  \n",
       "28         111  \n",
       "118         67  \n",
       "26          62  \n",
       "29          62  \n",
       "52          62  \n",
       "88          62  \n",
       "32          62  \n",
       "50          62  \n",
       "91          62  \n",
       "96          62  \n",
       "87          62  \n",
       "41          62  \n",
       "25          62  \n",
       "55          62  \n",
       "81          62  \n",
       "22          62  \n",
       "71          62  \n",
       "76          62  \n",
       "6           62  \n",
       "110         62  \n",
       "..         ...  \n",
       "5           34  \n",
       "67          33  \n",
       "4           32  \n",
       "89          31  \n",
       "125         30  \n",
       "49          30  \n",
       "124         30  \n",
       "123         30  \n",
       "92          30  \n",
       "103         29  \n",
       "10          28  \n",
       "42          27  \n",
       "9           27  \n",
       "18          26  \n",
       "47          25  \n",
       "117         25  \n",
       "90          24  \n",
       "38          24  \n",
       "7           23  \n",
       "126         19  \n",
       "43          19  \n",
       "0           18  \n",
       "46          17  \n",
       "19          17  \n",
       "72          16  \n",
       "1           16  \n",
       "48          16  \n",
       "120         11  \n",
       "12           5  \n",
       "21           3  \n",
       "\n",
       "[127 rows x 6 columns]"
      ]
     },
     "execution_count": 266,
     "metadata": {},
     "output_type": "execute_result"
    }
   ],
   "source": [
    "cpi.groupby('Description').count().reset_index().sort_values(by='OID',ascending=False)"
   ]
  },
  {
   "cell_type": "code",
   "execution_count": 226,
   "metadata": {},
   "outputs": [],
   "source": [
    "cpi_abs = cpi[cpi.Description.isin([\"CONSUMER PRICE INDEX\",\"CPI\",\"CONSUMER PRICES\"] )]"
   ]
  },
  {
   "cell_type": "code",
   "execution_count": 267,
   "metadata": {},
   "outputs": [],
   "source": [
    "cpi_abs_pivot = cpi_abs.groupby('Country').count().sort_values(by='OID',ascending=False)"
   ]
  },
  {
   "cell_type": "code",
   "execution_count": 264,
   "metadata": {},
   "outputs": [
    {
     "data": {
      "text/html": [
       "<div>\n",
       "<style scoped>\n",
       "    .dataframe tbody tr th:only-of-type {\n",
       "        vertical-align: middle;\n",
       "    }\n",
       "\n",
       "    .dataframe tbody tr th {\n",
       "        vertical-align: top;\n",
       "    }\n",
       "\n",
       "    .dataframe thead th {\n",
       "        text-align: right;\n",
       "    }\n",
       "</style>\n",
       "<table border=\"1\" class=\"dataframe\">\n",
       "  <thead>\n",
       "    <tr style=\"text-align: right;\">\n",
       "      <th></th>\n",
       "      <th>OID</th>\n",
       "      <th>Year</th>\n",
       "      <th>Description</th>\n",
       "      <th>Magnitude</th>\n",
       "      <th>CPI_Value</th>\n",
       "    </tr>\n",
       "    <tr>\n",
       "      <th>Country</th>\n",
       "      <th></th>\n",
       "      <th></th>\n",
       "      <th></th>\n",
       "      <th></th>\n",
       "      <th></th>\n",
       "    </tr>\n",
       "  </thead>\n",
       "  <tbody>\n",
       "    <tr>\n",
       "      <th>ARGENTINA</th>\n",
       "      <td>62</td>\n",
       "      <td>62</td>\n",
       "      <td>62</td>\n",
       "      <td>62</td>\n",
       "      <td>62</td>\n",
       "    </tr>\n",
       "    <tr>\n",
       "      <th>BOLIVIA</th>\n",
       "      <td>62</td>\n",
       "      <td>62</td>\n",
       "      <td>62</td>\n",
       "      <td>62</td>\n",
       "      <td>62</td>\n",
       "    </tr>\n",
       "    <tr>\n",
       "      <th>ICELAND</th>\n",
       "      <td>61</td>\n",
       "      <td>61</td>\n",
       "      <td>61</td>\n",
       "      <td>61</td>\n",
       "      <td>61</td>\n",
       "    </tr>\n",
       "    <tr>\n",
       "      <th>JAMAICA</th>\n",
       "      <td>57</td>\n",
       "      <td>57</td>\n",
       "      <td>57</td>\n",
       "      <td>57</td>\n",
       "      <td>57</td>\n",
       "    </tr>\n",
       "    <tr>\n",
       "      <th>SINGAPORE</th>\n",
       "      <td>50</td>\n",
       "      <td>50</td>\n",
       "      <td>50</td>\n",
       "      <td>50</td>\n",
       "      <td>50</td>\n",
       "    </tr>\n",
       "  </tbody>\n",
       "</table>\n",
       "</div>"
      ],
      "text/plain": [
       "           OID  Year  Description  Magnitude  CPI_Value\n",
       "Country                                                \n",
       "ARGENTINA   62    62           62         62         62\n",
       "BOLIVIA     62    62           62         62         62\n",
       "ICELAND     61    61           61         61         61\n",
       "JAMAICA     57    57           57         57         57\n",
       "SINGAPORE   50    50           50         50         50"
      ]
     },
     "execution_count": 264,
     "metadata": {},
     "output_type": "execute_result"
    }
   ],
   "source": [
    "cpi_abs_pivot.head(5)"
   ]
  },
  {
   "cell_type": "code",
   "execution_count": 229,
   "metadata": {},
   "outputs": [],
   "source": [
    "cpi_abs_sin = cpi_abs[cpi_abs.Country == 'SINGAPORE']"
   ]
  },
  {
   "cell_type": "code",
   "execution_count": 230,
   "metadata": {},
   "outputs": [],
   "source": [
    "cpi_abs_sin= cpi_abs_sin.reset_index()"
   ]
  },
  {
   "cell_type": "code",
   "execution_count": 231,
   "metadata": {},
   "outputs": [],
   "source": [
    "del cpi_abs_sin['OID']\n",
    "del cpi_abs_sin['index']"
   ]
  },
  {
   "cell_type": "code",
   "execution_count": 232,
   "metadata": {},
   "outputs": [
    {
     "data": {
      "text/html": [
       "<div>\n",
       "<style scoped>\n",
       "    .dataframe tbody tr th:only-of-type {\n",
       "        vertical-align: middle;\n",
       "    }\n",
       "\n",
       "    .dataframe tbody tr th {\n",
       "        vertical-align: top;\n",
       "    }\n",
       "\n",
       "    .dataframe thead th {\n",
       "        text-align: right;\n",
       "    }\n",
       "</style>\n",
       "<table border=\"1\" class=\"dataframe\">\n",
       "  <thead>\n",
       "    <tr style=\"text-align: right;\">\n",
       "      <th></th>\n",
       "      <th>Country</th>\n",
       "      <th>Year</th>\n",
       "      <th>Description</th>\n",
       "      <th>Magnitude</th>\n",
       "      <th>CPI_Value</th>\n",
       "    </tr>\n",
       "  </thead>\n",
       "  <tbody>\n",
       "    <tr>\n",
       "      <th>0</th>\n",
       "      <td>SINGAPORE</td>\n",
       "      <td>2009</td>\n",
       "      <td>CPI</td>\n",
       "      <td>INDEX NUMBER</td>\n",
       "      <td>110.060</td>\n",
       "    </tr>\n",
       "    <tr>\n",
       "      <th>1</th>\n",
       "      <td>SINGAPORE</td>\n",
       "      <td>2008</td>\n",
       "      <td>CPI</td>\n",
       "      <td>INDEX NUMBER</td>\n",
       "      <td>109.861</td>\n",
       "    </tr>\n",
       "    <tr>\n",
       "      <th>2</th>\n",
       "      <td>SINGAPORE</td>\n",
       "      <td>2007</td>\n",
       "      <td>CPI</td>\n",
       "      <td>INDEX NUMBER</td>\n",
       "      <td>103.137</td>\n",
       "    </tr>\n",
       "    <tr>\n",
       "      <th>3</th>\n",
       "      <td>SINGAPORE</td>\n",
       "      <td>2006</td>\n",
       "      <td>CPI</td>\n",
       "      <td>INDEX NUMBER</td>\n",
       "      <td>101.021</td>\n",
       "    </tr>\n",
       "    <tr>\n",
       "      <th>4</th>\n",
       "      <td>SINGAPORE</td>\n",
       "      <td>2005</td>\n",
       "      <td>CPI</td>\n",
       "      <td>INDEX NUMBER</td>\n",
       "      <td>100.000</td>\n",
       "    </tr>\n",
       "  </tbody>\n",
       "</table>\n",
       "</div>"
      ],
      "text/plain": [
       "     Country  Year Description     Magnitude  CPI_Value\n",
       "0  SINGAPORE  2009         CPI  INDEX NUMBER    110.060\n",
       "1  SINGAPORE  2008         CPI  INDEX NUMBER    109.861\n",
       "2  SINGAPORE  2007         CPI  INDEX NUMBER    103.137\n",
       "3  SINGAPORE  2006         CPI  INDEX NUMBER    101.021\n",
       "4  SINGAPORE  2005         CPI  INDEX NUMBER    100.000"
      ]
     },
     "execution_count": 232,
     "metadata": {},
     "output_type": "execute_result"
    }
   ],
   "source": [
    "cpi_abs_sin.head(5)"
   ]
  },
  {
   "cell_type": "code",
   "execution_count": 262,
   "metadata": {},
   "outputs": [],
   "source": [
    "cpi_abs_sin = cpi_abs_sin.replace({\"SINGAPORE\": \"Singapore\"})"
   ]
  },
  {
   "cell_type": "markdown",
   "metadata": {},
   "source": [
    "## Section One: Data Prep\n",
    "\n",
    "### Step 4: New Data Set (CPI) and Existing Data Set (GDP Per Capita) Combining"
   ]
  },
  {
   "cell_type": "code",
   "execution_count": 234,
   "metadata": {},
   "outputs": [
    {
     "data": {
      "text/html": [
       "<div>\n",
       "<style scoped>\n",
       "    .dataframe tbody tr th:only-of-type {\n",
       "        vertical-align: middle;\n",
       "    }\n",
       "\n",
       "    .dataframe tbody tr th {\n",
       "        vertical-align: top;\n",
       "    }\n",
       "\n",
       "    .dataframe thead th {\n",
       "        text-align: right;\n",
       "    }\n",
       "</style>\n",
       "<table border=\"1\" class=\"dataframe\">\n",
       "  <thead>\n",
       "    <tr style=\"text-align: right;\">\n",
       "      <th></th>\n",
       "      <th>Country</th>\n",
       "      <th>Year</th>\n",
       "      <th>GDP_Per_Capita</th>\n",
       "      <th>Continent</th>\n",
       "      <th>Internet_Users_Pct</th>\n",
       "    </tr>\n",
       "  </thead>\n",
       "  <tbody>\n",
       "    <tr>\n",
       "      <th>0</th>\n",
       "      <td>Afghanistan</td>\n",
       "      <td>2014</td>\n",
       "      <td>1795.735834</td>\n",
       "      <td>Asia</td>\n",
       "      <td>6.390000</td>\n",
       "    </tr>\n",
       "    <tr>\n",
       "      <th>1</th>\n",
       "      <td>Afghanistan</td>\n",
       "      <td>2013</td>\n",
       "      <td>1807.762344</td>\n",
       "      <td>Asia</td>\n",
       "      <td>5.900000</td>\n",
       "    </tr>\n",
       "    <tr>\n",
       "      <th>2</th>\n",
       "      <td>Afghanistan</td>\n",
       "      <td>2012</td>\n",
       "      <td>1772.764974</td>\n",
       "      <td>Asia</td>\n",
       "      <td>5.454545</td>\n",
       "    </tr>\n",
       "    <tr>\n",
       "      <th>3</th>\n",
       "      <td>Afghanistan</td>\n",
       "      <td>2011</td>\n",
       "      <td>1626.764793</td>\n",
       "      <td>Asia</td>\n",
       "      <td>5.000000</td>\n",
       "    </tr>\n",
       "    <tr>\n",
       "      <th>4</th>\n",
       "      <td>Afghanistan</td>\n",
       "      <td>2010</td>\n",
       "      <td>1671.581238</td>\n",
       "      <td>Asia</td>\n",
       "      <td>4.000000</td>\n",
       "    </tr>\n",
       "  </tbody>\n",
       "</table>\n",
       "</div>"
      ],
      "text/plain": [
       "       Country  Year  GDP_Per_Capita Continent  Internet_Users_Pct\n",
       "0  Afghanistan  2014     1795.735834      Asia            6.390000\n",
       "1  Afghanistan  2013     1807.762344      Asia            5.900000\n",
       "2  Afghanistan  2012     1772.764974      Asia            5.454545\n",
       "3  Afghanistan  2011     1626.764793      Asia            5.000000\n",
       "4  Afghanistan  2010     1671.581238      Asia            4.000000"
      ]
     },
     "execution_count": 234,
     "metadata": {},
     "output_type": "execute_result"
    }
   ],
   "source": [
    "gdp_and_internet_use.head(5)"
   ]
  },
  {
   "cell_type": "code",
   "execution_count": 235,
   "metadata": {},
   "outputs": [
    {
     "data": {
      "text/html": [
       "<div>\n",
       "<style scoped>\n",
       "    .dataframe tbody tr th:only-of-type {\n",
       "        vertical-align: middle;\n",
       "    }\n",
       "\n",
       "    .dataframe tbody tr th {\n",
       "        vertical-align: top;\n",
       "    }\n",
       "\n",
       "    .dataframe thead th {\n",
       "        text-align: right;\n",
       "    }\n",
       "</style>\n",
       "<table border=\"1\" class=\"dataframe\">\n",
       "  <thead>\n",
       "    <tr style=\"text-align: right;\">\n",
       "      <th></th>\n",
       "      <th>Country</th>\n",
       "      <th>Year</th>\n",
       "      <th>Description</th>\n",
       "      <th>Magnitude</th>\n",
       "      <th>CPI_Value</th>\n",
       "    </tr>\n",
       "  </thead>\n",
       "  <tbody>\n",
       "    <tr>\n",
       "      <th>0</th>\n",
       "      <td>Singapore</td>\n",
       "      <td>2009</td>\n",
       "      <td>CPI</td>\n",
       "      <td>INDEX NUMBER</td>\n",
       "      <td>110.060</td>\n",
       "    </tr>\n",
       "    <tr>\n",
       "      <th>1</th>\n",
       "      <td>Singapore</td>\n",
       "      <td>2008</td>\n",
       "      <td>CPI</td>\n",
       "      <td>INDEX NUMBER</td>\n",
       "      <td>109.861</td>\n",
       "    </tr>\n",
       "    <tr>\n",
       "      <th>2</th>\n",
       "      <td>Singapore</td>\n",
       "      <td>2007</td>\n",
       "      <td>CPI</td>\n",
       "      <td>INDEX NUMBER</td>\n",
       "      <td>103.137</td>\n",
       "    </tr>\n",
       "    <tr>\n",
       "      <th>3</th>\n",
       "      <td>Singapore</td>\n",
       "      <td>2006</td>\n",
       "      <td>CPI</td>\n",
       "      <td>INDEX NUMBER</td>\n",
       "      <td>101.021</td>\n",
       "    </tr>\n",
       "    <tr>\n",
       "      <th>4</th>\n",
       "      <td>Singapore</td>\n",
       "      <td>2005</td>\n",
       "      <td>CPI</td>\n",
       "      <td>INDEX NUMBER</td>\n",
       "      <td>100.000</td>\n",
       "    </tr>\n",
       "  </tbody>\n",
       "</table>\n",
       "</div>"
      ],
      "text/plain": [
       "     Country  Year Description     Magnitude  CPI_Value\n",
       "0  Singapore  2009         CPI  INDEX NUMBER    110.060\n",
       "1  Singapore  2008         CPI  INDEX NUMBER    109.861\n",
       "2  Singapore  2007         CPI  INDEX NUMBER    103.137\n",
       "3  Singapore  2006         CPI  INDEX NUMBER    101.021\n",
       "4  Singapore  2005         CPI  INDEX NUMBER    100.000"
      ]
     },
     "execution_count": 235,
     "metadata": {},
     "output_type": "execute_result"
    }
   ],
   "source": [
    "cpi_abs_sin.head(5)"
   ]
  },
  {
   "cell_type": "code",
   "execution_count": 236,
   "metadata": {},
   "outputs": [],
   "source": [
    "gdp_cpi_gdp_sin = pd.merge(gdp_and_internet_use, cpi_abs_sin, on=['Country','Year'], how='inner')"
   ]
  },
  {
   "cell_type": "markdown",
   "metadata": {},
   "source": [
    "## Section One: Data Prep\n",
    "\n",
    "### Step 5: Calculating A New Value \"GDP Deflator\" in the New Data Set (CPI) \n",
    "`Gdp Deflator = Nominal GDP / Real GDP * 100`"
   ]
  },
  {
   "cell_type": "code",
   "execution_count": 237,
   "metadata": {},
   "outputs": [
    {
     "data": {
      "text/html": [
       "<div>\n",
       "<style scoped>\n",
       "    .dataframe tbody tr th:only-of-type {\n",
       "        vertical-align: middle;\n",
       "    }\n",
       "\n",
       "    .dataframe tbody tr th {\n",
       "        vertical-align: top;\n",
       "    }\n",
       "\n",
       "    .dataframe thead th {\n",
       "        text-align: right;\n",
       "    }\n",
       "</style>\n",
       "<table border=\"1\" class=\"dataframe\">\n",
       "  <thead>\n",
       "    <tr style=\"text-align: right;\">\n",
       "      <th></th>\n",
       "      <th>Country</th>\n",
       "      <th>Year</th>\n",
       "      <th>GDP_Per_Capita</th>\n",
       "      <th>Continent</th>\n",
       "      <th>Internet_Users_Pct</th>\n",
       "      <th>Description</th>\n",
       "      <th>Magnitude</th>\n",
       "      <th>CPI_Value</th>\n",
       "    </tr>\n",
       "  </thead>\n",
       "  <tbody>\n",
       "    <tr>\n",
       "      <th>4</th>\n",
       "      <td>Singapore</td>\n",
       "      <td>2005</td>\n",
       "      <td>62638.95285</td>\n",
       "      <td>Asia</td>\n",
       "      <td>61.0</td>\n",
       "      <td>CPI</td>\n",
       "      <td>INDEX NUMBER</td>\n",
       "      <td>100.0</td>\n",
       "    </tr>\n",
       "  </tbody>\n",
       "</table>\n",
       "</div>"
      ],
      "text/plain": [
       "     Country  Year  GDP_Per_Capita Continent  Internet_Users_Pct Description  \\\n",
       "4  Singapore  2005     62638.95285      Asia                61.0         CPI   \n",
       "\n",
       "      Magnitude  CPI_Value  \n",
       "4  INDEX NUMBER      100.0  "
      ]
     },
     "execution_count": 237,
     "metadata": {},
     "output_type": "execute_result"
    }
   ],
   "source": [
    "gdp_cpi_gdp_sin.loc[gdp_cpi_gdp_sin.CPI_Value==100]"
   ]
  },
  {
   "cell_type": "code",
   "execution_count": 238,
   "metadata": {},
   "outputs": [],
   "source": [
    "gdp_per_cap_deflator_base_value = gdp_cpi_gdp_sin.loc[gdp_cpi_gdp_sin.CPI_Value==100].GDP_Per_Capita"
   ]
  },
  {
   "cell_type": "code",
   "execution_count": 239,
   "metadata": {},
   "outputs": [],
   "source": [
    "gdp_cpi_gdp_sin['gdp_per_cap_deflator']= gdp_cpi_gdp_sin['GDP_Per_Capita']/list(gdp_per_cap_deflator_base_value)*100"
   ]
  },
  {
   "cell_type": "code",
   "execution_count": 240,
   "metadata": {},
   "outputs": [
    {
     "data": {
      "text/html": [
       "<div>\n",
       "<style scoped>\n",
       "    .dataframe tbody tr th:only-of-type {\n",
       "        vertical-align: middle;\n",
       "    }\n",
       "\n",
       "    .dataframe tbody tr th {\n",
       "        vertical-align: top;\n",
       "    }\n",
       "\n",
       "    .dataframe thead th {\n",
       "        text-align: right;\n",
       "    }\n",
       "</style>\n",
       "<table border=\"1\" class=\"dataframe\">\n",
       "  <thead>\n",
       "    <tr style=\"text-align: right;\">\n",
       "      <th></th>\n",
       "      <th>Country</th>\n",
       "      <th>Year</th>\n",
       "      <th>GDP_Per_Capita</th>\n",
       "      <th>Continent</th>\n",
       "      <th>Internet_Users_Pct</th>\n",
       "      <th>Description</th>\n",
       "      <th>Magnitude</th>\n",
       "      <th>CPI_Value</th>\n",
       "      <th>gdp_per_cap_deflator</th>\n",
       "    </tr>\n",
       "  </thead>\n",
       "  <tbody>\n",
       "    <tr>\n",
       "      <th>0</th>\n",
       "      <td>Singapore</td>\n",
       "      <td>2009</td>\n",
       "      <td>64934.799310</td>\n",
       "      <td>Asia</td>\n",
       "      <td>69.000000</td>\n",
       "      <td>CPI</td>\n",
       "      <td>INDEX NUMBER</td>\n",
       "      <td>110.0600</td>\n",
       "      <td>103.665206</td>\n",
       "    </tr>\n",
       "    <tr>\n",
       "      <th>1</th>\n",
       "      <td>Singapore</td>\n",
       "      <td>2008</td>\n",
       "      <td>66842.150128</td>\n",
       "      <td>Asia</td>\n",
       "      <td>69.000000</td>\n",
       "      <td>CPI</td>\n",
       "      <td>INDEX NUMBER</td>\n",
       "      <td>109.8610</td>\n",
       "      <td>106.710197</td>\n",
       "    </tr>\n",
       "    <tr>\n",
       "      <th>2</th>\n",
       "      <td>Singapore</td>\n",
       "      <td>2007</td>\n",
       "      <td>69202.658933</td>\n",
       "      <td>Asia</td>\n",
       "      <td>69.900000</td>\n",
       "      <td>CPI</td>\n",
       "      <td>INDEX NUMBER</td>\n",
       "      <td>103.1370</td>\n",
       "      <td>110.478633</td>\n",
       "    </tr>\n",
       "    <tr>\n",
       "      <th>3</th>\n",
       "      <td>Singapore</td>\n",
       "      <td>2006</td>\n",
       "      <td>66176.057906</td>\n",
       "      <td>Asia</td>\n",
       "      <td>59.000000</td>\n",
       "      <td>CPI</td>\n",
       "      <td>INDEX NUMBER</td>\n",
       "      <td>101.0210</td>\n",
       "      <td>105.646814</td>\n",
       "    </tr>\n",
       "    <tr>\n",
       "      <th>4</th>\n",
       "      <td>Singapore</td>\n",
       "      <td>2005</td>\n",
       "      <td>62638.952850</td>\n",
       "      <td>Asia</td>\n",
       "      <td>61.000000</td>\n",
       "      <td>CPI</td>\n",
       "      <td>INDEX NUMBER</td>\n",
       "      <td>100.0000</td>\n",
       "      <td>100.000000</td>\n",
       "    </tr>\n",
       "    <tr>\n",
       "      <th>5</th>\n",
       "      <td>Singapore</td>\n",
       "      <td>2004</td>\n",
       "      <td>59732.958543</td>\n",
       "      <td>Asia</td>\n",
       "      <td>62.000000</td>\n",
       "      <td>CPI</td>\n",
       "      <td>INDEX NUMBER</td>\n",
       "      <td>99.5767</td>\n",
       "      <td>95.360723</td>\n",
       "    </tr>\n",
       "    <tr>\n",
       "      <th>6</th>\n",
       "      <td>Singapore</td>\n",
       "      <td>2003</td>\n",
       "      <td>55077.150387</td>\n",
       "      <td>Asia</td>\n",
       "      <td>53.837943</td>\n",
       "      <td>CPI</td>\n",
       "      <td>INDEX NUMBER</td>\n",
       "      <td>97.9481</td>\n",
       "      <td>87.927955</td>\n",
       "    </tr>\n",
       "    <tr>\n",
       "      <th>7</th>\n",
       "      <td>Singapore</td>\n",
       "      <td>2002</td>\n",
       "      <td>51916.161202</td>\n",
       "      <td>Asia</td>\n",
       "      <td>47.000000</td>\n",
       "      <td>CPI</td>\n",
       "      <td>INDEX NUMBER</td>\n",
       "      <td>97.4531</td>\n",
       "      <td>82.881592</td>\n",
       "    </tr>\n",
       "  </tbody>\n",
       "</table>\n",
       "</div>"
      ],
      "text/plain": [
       "     Country  Year  GDP_Per_Capita Continent  Internet_Users_Pct Description  \\\n",
       "0  Singapore  2009    64934.799310      Asia           69.000000         CPI   \n",
       "1  Singapore  2008    66842.150128      Asia           69.000000         CPI   \n",
       "2  Singapore  2007    69202.658933      Asia           69.900000         CPI   \n",
       "3  Singapore  2006    66176.057906      Asia           59.000000         CPI   \n",
       "4  Singapore  2005    62638.952850      Asia           61.000000         CPI   \n",
       "5  Singapore  2004    59732.958543      Asia           62.000000         CPI   \n",
       "6  Singapore  2003    55077.150387      Asia           53.837943         CPI   \n",
       "7  Singapore  2002    51916.161202      Asia           47.000000         CPI   \n",
       "\n",
       "      Magnitude  CPI_Value  gdp_per_cap_deflator  \n",
       "0  INDEX NUMBER   110.0600            103.665206  \n",
       "1  INDEX NUMBER   109.8610            106.710197  \n",
       "2  INDEX NUMBER   103.1370            110.478633  \n",
       "3  INDEX NUMBER   101.0210            105.646814  \n",
       "4  INDEX NUMBER   100.0000            100.000000  \n",
       "5  INDEX NUMBER    99.5767             95.360723  \n",
       "6  INDEX NUMBER    97.9481             87.927955  \n",
       "7  INDEX NUMBER    97.4531             82.881592  "
      ]
     },
     "execution_count": 240,
     "metadata": {},
     "output_type": "execute_result"
    }
   ],
   "source": [
    "gdp_cpi_gdp_sin.head(8)"
   ]
  },
  {
   "cell_type": "code",
   "execution_count": 243,
   "metadata": {},
   "outputs": [],
   "source": [
    "gdp_cpi_gdp_sin=gdp_cpi_gdp_sin.sort_values(by='Year',ascending=True)"
   ]
  },
  {
   "cell_type": "markdown",
   "metadata": {},
   "source": [
    "## Section Two: Data Sanity check"
   ]
  },
  {
   "cell_type": "code",
   "execution_count": 265,
   "metadata": {},
   "outputs": [],
   "source": [
    "gdp_cpi_gdp_sin_var = gdp_cpi_gdp_sin[['gdp_per_cap_deflator','CPI_Value']]"
   ]
  },
  {
   "cell_type": "code",
   "execution_count": 245,
   "metadata": {},
   "outputs": [
    {
     "data": {
      "image/png": "[encoded data removed]",
      "text/plain": [
       "<Figure size 360x360 with 6 Axes>"
      ]
     },
     "metadata": {},
     "output_type": "display_data"
    }
   ],
   "source": [
    "sns.pairplot(gdp_cpi_gdp_sin_var);"
   ]
  },
  {
   "cell_type": "markdown",
   "metadata": {},
   "source": [
    "## Section Three: Results"
   ]
  },
  {
   "cell_type": "code",
   "execution_count": 260,
   "metadata": {},
   "outputs": [
    {
     "data": {
      "image/png": "[encoded data removed]",
      "text/plain": [
       "<Figure size 864x576 with 1 Axes>"
      ]
     },
     "metadata": {},
     "output_type": "display_data"
    }
   ],
   "source": [
    "gdp_cpi_gdp_sin['Year'] = gdp_cpi_gdp_sin['Year'].astype(str)\n",
    "\n",
    "plt.figure(figsize=(12,8))\n",
    "\n",
    "plt.plot( 'Year', 'gdp_per_cap_deflator', data=gdp_cpi_gdp_sin, marker='o', markerfacecolor='blue', markersize=12, color='skyblue', linewidth=4)\n",
    "plt.plot( 'Year', 'CPI_Value', data=gdp_cpi_gdp_sin, marker='', color='olive', linewidth=4)\n",
    "#plt.plot( 'x', 'y3', data=df, marker='', color='olive', linewidth=2, linestyle='dashed', label=\"toto\")\n",
    "plt.xlabel(\"Year\", labelpad=10)\n",
    "plt.legend();"
   ]
  },
  {
   "cell_type": "markdown",
   "metadata": {},
   "source": [
    "## Section Four: Implication - What does it mean when CPI outpaces GDP Deflator?"
   ]
  },
  {
   "cell_type": "markdown",
   "metadata": {},
   "source": [
    "A Consumer Price Index measures changes in the price level of a weighted average market basket of consumer goods and services purchased by households. In other words, CPI measures the cost of living (Chen, 2019).\n",
    "\n",
    "GDP per capita is a measure of a country's economic output that accounts for its number of people. It divides the country's gross domestic product by its total population (Chapplelow, 2019).\n",
    "\n",
    "GDP deflator is a measure of price inflation/deflation with respect to a specific base year; the GDP deflator of the base year itself is equal to 100 (Wikipedia, n.d.)\n",
    "\n",
    "* Declines in the Gross Domestic Product (GDP) and productivity often indicate an ailing economy.\n",
    "* Rising prices (CPI) and rising unemployment are two of the data points used in attempts to determine whether stagflation is threatening the economy (Smith, 2018). \n",
    "\n",
    "In 2009, Singapore saw a decline in GDP Per Capita and an increase in CPI. These signals indicate economic stagflation, as evidenced by the Great Recession.\n",
    "\n",
    "### Reference: \n",
    "\n",
    "Chapplelow, J. (2019). Investopedia. Retrieved 20 September, 2019, from https://www.investopedia.com/terms/p/per-capita-gdp.asp\n",
    "\n",
    "Chen, J. (2019). Investopedia. Retrieved 20 September, 2019, from https://www.investopedia.com/terms/c/consumerpriceindex\n",
    "\n",
    "Smith, L. (2018). Investopedia. Retrieved 19 September, 2019, from https://www.investopedia.com/articles/economics/08/stagflation\n",
    "\n",
    "Wikipedia (n.d.). Wikipedia. Retrieved 20 September, 2019, from https://en.wikipedia.org/wiki/GDP_deflator\n",
    "\n"
   ]
  },
  {
   "cell_type": "code",
   "execution_count": null,
   "metadata": {},
   "outputs": [],
   "source": []
  }
 ],
 "metadata": {
  "kernelspec": {
   "display_name": "Python 3",
   "language": "python",
   "name": "python3"
  },
  "language_info": {
   "codemirror_mode": {
    "name": "ipython",
    "version": 3
   },
   "file_extension": ".py",
   "mimetype": "text/x-python",
   "name": "python",
   "nbconvert_exporter": "python",
   "pygments_lexer": "ipython3",
   "version": "3.7.6"
  }
 },
 "nbformat": 4,
 "nbformat_minor": 2
}
